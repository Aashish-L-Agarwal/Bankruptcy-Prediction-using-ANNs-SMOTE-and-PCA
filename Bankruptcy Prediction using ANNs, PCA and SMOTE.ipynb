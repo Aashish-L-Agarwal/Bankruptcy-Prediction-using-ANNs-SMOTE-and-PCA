{
 "cells": [
  {
   "cell_type": "markdown",
   "id": "42f1471a",
   "metadata": {},
   "source": [
    "<h1 style=\"font-size: 35px; color: lightblue; text-align:center; font-weight: bolder;\"> Bankruptcy Prediction: Artificial Neural Networks, Borderline SMOTE and Principal Component Analysis </h1>\n"
   ]
  },
  {
   "cell_type": "markdown",
   "id": "3cfe7b29",
   "metadata": {},
   "source": [
    "<br>"
   ]
  },
  {
   "cell_type": "markdown",
   "id": "81ff549d",
   "metadata": {},
   "source": [
    "<!-- Add font awesome icons -->\n",
    "<link rel=\"stylesheet\" href=\"https://cdnjs.cloudflare.com/ajax/libs/font-awesome/5.15.3/css/all.min.css\" />\n",
    "<script src=\"https://cdnjs.cloudflare.com/ajax/libs/font-awesome/5.15.3/js/all.min.js\"></script>\n",
    "\n",
    "<!-- Contents -->\n",
    "<a id=\"index\" style=\"font-size: 28px; color: lightblue; font-weight:bolder; text-decoration: none;\">Contents</a>\n",
    "<hr style=\"height:2px;border-width:0;color:gray;background-color:gray\">\n",
    "\n",
    "<a href=\"#1\" style=\"color:#033a91; font-size: 22px; text-decoration: none; font-weight:bold;\">1. Importing data and libraries</a>\n",
    "\n",
    "<a href=\"#2\" style=\"color:#033a91;  font-size: 22px; text-decoration: none; font-weight:bold;\">2. Exploratory Data Analysis (EDA)</a>\n",
    "<ul style=\"color: #033a91\">\n",
    "    <li><a href=\"#2.1\" style=\"color: #033a91; text-decoration: none;\"> 2.1 Missing and Duplicate Data</a></li>\n",
    "  <li><a href=\"#2.2\" style=\"color: #033a91; text-decoration: none;\">2.2 Class Distribution</a></li>\n",
    "  <li><a href=\"#2.3\" style=\"color: #033a91; text-decoration: none;\">2.3 Outliers Treatment</a></li>\n",
    "</ul>\n",
    "\n",
    "<a href=\"#3\" style=\"color:#033a91;  font-size: 22px; text-decoration: none; font-weight:bold;\">3. Training and Scaling Data</a>\n",
    "\n",
    "<a href=\"#4\" style=\"color:#033a91;  font-size: 22px; text-decoration: none; font-weight:bold;\">4. SMOTE Oversampling</a>\n",
    "\n",
    "<a href=\"#5\" style=\"color:#033a91;  font-size: 22px; text-decoration: none; font-weight:bold;\">5. Baseline Model: Logistic Regression</a>\n",
    "\n",
    "<a href=\"#6\" style=\"color:#033a91;  font-size: 22px; text-decoration: none; font-weight:bold;\">6. Model 1: 5-layer-ANN-SMOTE</a>\n",
    "<ul style=\"color: #033a91\">\n",
    "    <li><a href=\"#6.1\" style=\"color: #033a91; text-decoration: none;\">6.1 Tuning the hyperparameters</a></li>\n",
    "  <li><a href=\"#6.2\" style=\"color: #033a91; text-decoration: none;\">6.2 Building the model</a></li>\n",
    "</ul>\n",
    "\n",
    "<a href=\"#7\" style=\"color:#033a91;  font-size: 22px; text-decoration: none; font-weight:bold;\">7. Model 2: 6-layer-ANN-SMOTE</a>\n",
    "<ul style=\"color: #033a91\">\n",
    "    <li><a href=\"#7.1\" style=\"color: #033a91; text-decoration: none;\">7.1 Tuning the hyperparameters</a></li>\n",
    "  <li><a href=\"#7.2\" style=\"color: #033a91; text-decoration: none;\">7.2 Building the model</a></li>\n",
    "</ul>\n",
    "\n",
    "<a href=\"#8\" style=\"color:#033a91;  font-size: 22px; text-decoration: none; font-weight:bold;\">8. Model 3: 5-layer-ANN-PCA-BSM</a>\n",
    "<ul style=\"color: #033a91\">\n",
    "    <li><a href=\"#8.1\" style=\"color: #033a91; text-decoration: none;\">8.1 PCA</a></li>\n",
    "  <li><a href=\"#8.2\" style=\"color: #033a91; text-decoration: none;\">8.2 BSM Oversampling</a></li>\n",
    "      <li><a href=\"#8.3\" style=\"color: #033a91; text-decoration: none;\">8.3 Tuning the hyperparameters</a></li>\n",
    "    <li><a href=\"#8.4\" style=\"color: #033a91; text-decoration: none;\">8.4 Building the model</a></li>\n",
    "</ul>"
   ]
  },
  {
   "cell_type": "markdown",
   "id": "be033f51",
   "metadata": {},
   "source": [
    "<br id=\"1\">\n",
    "<a href=\"#index\" style=\"color:#033a91;  font-size: 22px; text-decoration: none; font-weight:bold;\"> 1. Importing data and libraries </a>\n",
    "<hr style=\"height:1px;border-width:0;color:gray;background-color:gray\">"
   ]
  },
  {
   "cell_type": "code",
   "execution_count": 3,
   "id": "44426f19",
   "metadata": {},
   "outputs": [
    {
     "name": "stdout",
     "output_type": "stream",
     "text": [
      "Requirement already satisfied: bayesian-optimization in /Users/aashish/opt/anaconda3/lib/python3.9/site-packages (1.4.2)\n",
      "Requirement already satisfied: scikit-learn>=0.18.0 in /Users/aashish/opt/anaconda3/lib/python3.9/site-packages (from bayesian-optimization) (1.2.2)\n",
      "Requirement already satisfied: numpy>=1.9.0 in /Users/aashish/opt/anaconda3/lib/python3.9/site-packages (from bayesian-optimization) (1.21.5)\n",
      "Requirement already satisfied: colorama>=0.4.6 in /Users/aashish/opt/anaconda3/lib/python3.9/site-packages (from bayesian-optimization) (0.4.6)\n",
      "Requirement already satisfied: scipy>=1.0.0 in /Users/aashish/opt/anaconda3/lib/python3.9/site-packages (from bayesian-optimization) (1.10.1)\n",
      "Requirement already satisfied: threadpoolctl>=2.0.0 in /Users/aashish/opt/anaconda3/lib/python3.9/site-packages (from scikit-learn>=0.18.0->bayesian-optimization) (2.2.0)\n",
      "Requirement already satisfied: joblib>=1.1.1 in /Users/aashish/opt/anaconda3/lib/python3.9/site-packages (from scikit-learn>=0.18.0->bayesian-optimization) (1.2.0)\n",
      "Note: you may need to restart the kernel to use updated packages.\n"
     ]
    }
   ],
   "source": [
    "pip install bayesian-optimization"
   ]
  },
  {
   "cell_type": "code",
   "execution_count": 25,
   "id": "fbc46afd",
   "metadata": {},
   "outputs": [
    {
     "name": "stdout",
     "output_type": "stream",
     "text": [
      "Requirement already satisfied: colorama in /Users/aashish/opt/anaconda3/lib/python3.9/site-packages (0.4.6)\n",
      "Note: you may need to restart the kernel to use updated packages.\n"
     ]
    }
   ],
   "source": [
    "pip install --upgrade colorama"
   ]
  },
  {
   "cell_type": "code",
   "execution_count": 1,
   "id": "3839f3e5",
   "metadata": {},
   "outputs": [
    {
     "name": "stderr",
     "output_type": "stream",
     "text": [
      "2023-04-17 11:19:14.726102: I tensorflow/core/platform/cpu_feature_guard.cc:193] This TensorFlow binary is optimized with oneAPI Deep Neural Network Library (oneDNN) to use the following CPU instructions in performance-critical operations:  AVX2 FMA\n",
      "To enable them in other operations, rebuild TensorFlow with the appropriate compiler flags.\n"
     ]
    }
   ],
   "source": [
    "import numpy as np\n",
    "import matplotlib.pyplot as plt\n",
    "import pandas as pd\n",
    "import seaborn as sns\n",
    "from imblearn.over_sampling import SMOTE\n",
    "from sklearn.model_selection import train_test_split\n",
    "from sklearn.preprocessing import StandardScaler, MinMaxScaler\n",
    "from sklearn.feature_selection import RFE\n",
    "from sklearn.linear_model import LogisticRegression\n",
    "from sklearn.metrics import accuracy_score, classification_report, f1_score, confusion_matrix, balanced_accuracy_score, recall_score\n",
    "from sklearn.svm import SVC\n",
    "from sklearn.neural_network import MLPClassifier\n",
    "from sklearn.decomposition import PCA\n",
    "from sklearn.model_selection import GridSearchCV\n",
    "from imblearn.over_sampling import BorderlineSMOTE\n",
    "import tensorflow as tf\n",
    "from tensorflow import keras\n",
    "\n",
    "from sklearn.metrics import make_scorer, accuracy_score\n",
    "from bayes_opt import BayesianOptimization\n",
    "from sklearn.model_selection import StratifiedKFold\n",
    "from keras.layers import LeakyReLU\n",
    "LeakyReLU = LeakyReLU(alpha=0.1)\n",
    "import warnings\n",
    "warnings.filterwarnings('ignore')\n",
    "pd.set_option(\"display.max_columns\", None)\n",
    "\n",
    "from sklearn.model_selection import cross_val_score\n",
    "from keras.models import Sequential\n",
    "from keras.layers import Dense, BatchNormalization, Dropout\n",
    "from keras.optimizers import Adam, SGD, RMSprop, Adadelta, Adagrad, Adamax, Nadam, Ftrl\n",
    "from keras.callbacks import EarlyStopping, ModelCheckpoint\n"
   ]
  },
  {
   "cell_type": "code",
   "execution_count": 3,
   "id": "6dd54bcc",
   "metadata": {},
   "outputs": [],
   "source": [
    "from keras.metrics import Recall, Precision\n",
    "from numpy import float32"
   ]
  },
  {
   "cell_type": "code",
   "execution_count": 5,
   "id": "9f1392d3",
   "metadata": {},
   "outputs": [],
   "source": [
    "company = pd.read_csv(\"data.csv\", index_col=False)\n"
   ]
  },
  {
   "cell_type": "markdown",
   "id": "afbdb4f8",
   "metadata": {},
   "source": [
    "<br id=\"2\">\n",
    "<a href=\"#index\" style=\"color:#033a91;  font-size: 22px; text-decoration: none; font-weight:bold;\"> 2. Exploratory Data Analysis (EDA) </a>\n",
    "<hr style=\"height:1px;border-width:0;color:gray;background-color:gray\">\n"
   ]
  },
  {
   "cell_type": "markdown",
   "id": "1be9d245",
   "metadata": {},
   "source": [
    "<br id=\"2.1\">\n",
    "<a href=\"#index\" style=\"color:#033a91; font-size: 16px; text-decoration: none; font-weight:bold;\">  2.1 Missing and Duplicate Data<a>"
   ]
  },
  {
   "cell_type": "code",
   "execution_count": 6,
   "id": "a67989e7",
   "metadata": {},
   "outputs": [
    {
     "data": {
      "text/plain": [
       "[]"
      ]
     },
     "execution_count": 6,
     "metadata": {},
     "output_type": "execute_result"
    }
   ],
   "source": [
    "#NaNs check\n",
    "\n",
    "[print(col) for col in company if company[col].isna().sum() > 0]"
   ]
  },
  {
   "cell_type": "markdown",
   "id": "0cece43e",
   "metadata": {},
   "source": [
    "Despite the fact that we already know that there are no missing values (here it's pretty easy considering that we have just 96 features) it is important to computationally check that this is true, to avoid errors and time wasted in the following steps of the project."
   ]
  },
  {
   "cell_type": "code",
   "execution_count": 7,
   "id": "a436af7a",
   "metadata": {},
   "outputs": [],
   "source": [
    "#No Duplicate values\n",
    "\n",
    "company.drop_duplicates(inplace=True) #no change in no. of datapoints"
   ]
  },
  {
   "cell_type": "markdown",
   "id": "4d96f02d",
   "metadata": {},
   "source": [
    "<br id=\"2.2\">\n",
    "<a href=\"#index\" style=\"color:#033a91; font-size: 16px; text-decoration: none; font-weight:bold;\"> 2.2 Class Distribution</a>"
   ]
  },
  {
   "cell_type": "code",
   "execution_count": 8,
   "id": "1d9942e4",
   "metadata": {},
   "outputs": [
    {
     "name": "stdout",
     "output_type": "stream",
     "text": [
      "0    6599\n",
      "1     220\n",
      "Name: Bankrupt?, dtype: int64\n",
      "\n"
     ]
    }
   ],
   "source": [
    "target_counts = company['Bankrupt?'].value_counts()\n",
    "print(target_counts)\n",
    "print(\"\")\n",
    "\n",
    "#HEAVILY SKEWED as only 3.23% of the companies in this dataset are financially unstable / bankrupt"
   ]
  },
  {
   "cell_type": "markdown",
   "id": "197b65ef",
   "metadata": {},
   "source": [
    "<br id=\"2.3\">\n",
    "<a href=\"#index\" style=\"color:#033a91; font-size: 16px; text-decoration: none; font-weight:bold;\"> 2.3 Outlier Treatment</a>"
   ]
  },
  {
   "cell_type": "code",
   "execution_count": 9,
   "id": "f9ab69f6",
   "metadata": {},
   "outputs": [
    {
     "name": "stdout",
     "output_type": "stream",
     "text": [
      "Lower quartile (25%) is: 0.0 and Upper Quartile (75%) is: 0.0\n",
      "iqr: 0.0\n",
      "Cut Off is: 0.0\n",
      "Bankrupt? Lower: 0.0\n",
      "Bankrupt? Upper: 0.0\n",
      "For Bankrupt?,total outlier cases: 220\n",
      "\n",
      "Lower quartile (25%) is: 0.476527080388047 and Upper Quartile (75%) is: 0.535562813825379\n",
      "iqr: 0.05903573343733198\n",
      "Cut Off is: 0.08855360015599797\n",
      " ROA(C) before interest and depreciation before interest Lower: 0.38797348023204903\n",
      " ROA(C) before interest and depreciation before interest Upper: 0.624116413981377\n",
      "For  ROA(C) before interest and depreciation before interest,total outlier cases: 391\n",
      "\n",
      "Lower quartile (25%) is: 0.53554295682512 and Upper Quartile (75%) is: 0.58915721761884\n",
      "iqr: 0.05361426079372\n",
      "Cut Off is: 0.08042139119058\n",
      " ROA(A) before interest and % after tax Lower: 0.45512156563454\n",
      " ROA(A) before interest and % after tax Upper: 0.66957860880942\n",
      "For  ROA(A) before interest and % after tax,total outlier cases: 561\n",
      "\n",
      "Lower quartile (25%) is: 0.527276620804112 and Upper Quartile (75%) is: 0.584105144815033\n",
      "iqr: 0.05682852401092098\n",
      "Cut Off is: 0.08524278601638147\n",
      " ROA(B) before interest and depreciation after tax Lower: 0.4420338347877305\n",
      " ROA(B) before interest and depreciation after tax Upper: 0.6693479308314144\n",
      "For  ROA(B) before interest and depreciation after tax,total outlier cases: 432\n",
      "\n",
      "Lower quartile (25%) is: 0.6004446590466855 and Upper Quartile (75%) is: 0.613914152697502\n",
      "iqr: 0.01346949365081651\n",
      "Cut Off is: 0.020204240476224766\n",
      " Operating Gross Margin Lower: 0.5802404185704608\n",
      " Operating Gross Margin Upper: 0.6341183931737269\n",
      "For  Operating Gross Margin,total outlier cases: 320\n",
      "\n",
      "Lower quartile (25%) is: 0.600433848859165 and Upper Quartile (75%) is: 0.6138420847806975\n",
      "iqr: 0.013408235921532508\n",
      "Cut Off is: 0.02011235388229876\n",
      " Realized Sales Gross Margin Lower: 0.5803214949768662\n",
      " Realized Sales Gross Margin Upper: 0.6339544386629963\n",
      "For  Realized Sales Gross Margin,total outlier cases: 318\n",
      "\n",
      "Lower quartile (25%) is: 0.998969203197885 and Upper Quartile (75%) is: 0.999094514164357\n",
      "iqr: 0.00012531096647205864\n",
      "Cut Off is: 0.00018796644970808796\n",
      " Operating Profit Rate Lower: 0.9987812367481769\n",
      " Operating Profit Rate Upper: 0.9992824806140651\n",
      "For  Operating Profit Rate,total outlier cases: 716\n",
      "\n",
      "Lower quartile (25%) is: 0.797385863236893 and Upper Quartile (75%) is: 0.797578848185589\n",
      "iqr: 0.0001929849486960178\n",
      "Cut Off is: 0.0002894774230440267\n",
      " Pre-tax net Interest Rate Lower: 0.7970963858138489\n",
      " Pre-tax net Interest Rate Upper: 0.797868325608633\n",
      "For  Pre-tax net Interest Rate,total outlier cases: 773\n",
      "\n",
      "Lower quartile (25%) is: 0.809311597146491 and Upper Quartile (75%) is: 0.809469266134837\n",
      "iqr: 0.00015766898834601584\n",
      "Cut Off is: 0.00023650348251902376\n",
      " After-tax net Interest Rate Lower: 0.809075093663972\n",
      " After-tax net Interest Rate Upper: 0.8097057696173561\n",
      "For  After-tax net Interest Rate,total outlier cases: 867\n",
      "\n",
      "Lower quartile (25%) is: 0.30346627659685 and Upper Quartile (75%) is: 0.303585192461218\n",
      "iqr: 0.00011891586436801882\n",
      "Cut Off is: 0.00017837379655202823\n",
      " Non-industry income and expenditure/revenue Lower: 0.30328790280029794\n",
      " Non-industry income and expenditure/revenue Upper: 0.30376356625777\n",
      "For  Non-industry income and expenditure/revenue,total outlier cases: 1094\n",
      "\n",
      "Lower quartile (25%) is: 0.7815668165898519 and Upper Quartile (75%) is: 0.7817353784192015\n",
      "iqr: 0.000168561829349545\n",
      "Cut Off is: 0.0002528427440243175\n",
      " Continuous interest rate (after tax) Lower: 0.7813139738458277\n",
      " Continuous interest rate (after tax) Upper: 0.7819882211632259\n",
      "For  Continuous interest rate (after tax),total outlier cases: 806\n",
      "\n",
      "Lower quartile (25%) is: 0.0001566874492428 and Upper Quartile (75%) is: 4145000000.0\n",
      "iqr: 4144999999.999843\n",
      "Cut Off is: 6217499999.999764\n",
      " Operating Expense Rate Lower: -6217499999.999608\n",
      " Operating Expense Rate Upper: 10362499999.999763\n",
      "For  Operating Expense Rate,total outlier cases: 0\n",
      "\n",
      "Lower quartile (25%) is: 0.000128187953762 and Upper Quartile (75%) is: 3450000000.0\n",
      "iqr: 3449999999.9998717\n",
      "Cut Off is: 5174999999.999807\n",
      " Research and development expense rate Lower: -5174999999.99968\n",
      " Research and development expense rate Upper: 8624999999.999807\n",
      "For  Research and development expense rate,total outlier cases: 182\n",
      "\n",
      "Lower quartile (25%) is: 0.4615577531181065 and Upper Quartile (75%) is: 0.471003917029432\n",
      "iqr: 0.009446163911325522\n",
      "Cut Off is: 0.014169245866988284\n",
      " Cash flow rate Lower: 0.44738850725111823\n",
      " Cash flow rate Upper: 0.4851731628964203\n",
      "For  Cash flow rate,total outlier cases: 576\n",
      "\n",
      "Lower quartile (25%) is: 0.0002030203020302 and Upper Quartile (75%) is: 0.0005325532553255\n",
      "iqr: 0.00032953295329529996\n",
      "Cut Off is: 0.00049429942994295\n",
      " Interest-bearing debt interest rate Lower: -0.00029127912791275\n",
      " Interest-bearing debt interest rate Upper: 0.00102685268526845\n",
      "For  Interest-bearing debt interest rate,total outlier cases: 396\n",
      "\n",
      "Lower quartile (25%) is: 0.0 and Upper Quartile (75%) is: 0.205840672132807\n",
      "iqr: 0.205840672132807\n",
      "Cut Off is: 0.3087610081992105\n",
      " Tax rate (A) Lower: -0.3087610081992105\n",
      " Tax rate (A) Upper: 0.5146016803320175\n",
      "For  Tax rate (A),total outlier cases: 120\n",
      "\n",
      "Lower quartile (25%) is: 0.173612574269942 and Upper Quartile (75%) is: 0.199570182461759\n",
      "iqr: 0.025957608191817\n",
      "Cut Off is: 0.0389364122877255\n",
      " Net Value Per Share (B) Lower: 0.1346761619822165\n",
      " Net Value Per Share (B) Upper: 0.2385065947494845\n",
      "For  Net Value Per Share (B),total outlier cases: 457\n",
      "\n",
      "Lower quartile (25%) is: 0.173612574269942 and Upper Quartile (75%) is: 0.199570182461759\n",
      "iqr: 0.025957608191817\n",
      "Cut Off is: 0.0389364122877255\n",
      " Net Value Per Share (A) Lower: 0.1346761619822165\n",
      " Net Value Per Share (A) Upper: 0.2385065947494845\n",
      "For  Net Value Per Share (A),total outlier cases: 464\n",
      "\n",
      "Lower quartile (25%) is: 0.1736757827314485 and Upper Quartile (75%) is: 0.199612321436096\n",
      "iqr: 0.025936538704647488\n",
      "Cut Off is: 0.03890480805697123\n",
      " Net Value Per Share (C) Lower: 0.1347709746744773\n",
      " Net Value Per Share (C) Upper: 0.23851712949306725\n",
      "For  Net Value Per Share (C),total outlier cases: 465\n",
      "\n",
      "Lower quartile (25%) is: 0.214711165736976 and Upper Quartile (75%) is: 0.2388200813085\n",
      "iqr: 0.024108915571524003\n",
      "Cut Off is: 0.036163373357286005\n",
      " Persistent EPS in the Last Four Seasons Lower: 0.17854779237968998\n",
      " Persistent EPS in the Last Four Seasons Upper: 0.274983454665786\n",
      "For  Persistent EPS in the Last Four Seasons,total outlier cases: 508\n",
      "\n",
      "Lower quartile (25%) is: 0.317747754120393 and Upper Quartile (75%) is: 0.3286234703260945\n",
      "iqr: 0.010875716205701491\n",
      "Cut Off is: 0.016313574308552237\n",
      " Cash Flow Per Share Lower: 0.3014341798118408\n",
      " Cash Flow Per Share Upper: 0.34493704463464675\n",
      "For  Cash Flow Per Share,total outlier cases: 532\n",
      "\n",
      "Lower quartile (25%) is: 0.01563138073415305 and Upper Quartile (75%) is: 0.0463572152396509\n",
      "iqr: 0.030725834505497845\n",
      "Cut Off is: 0.04608875175824677\n",
      " Revenue Per Share (Yuan ¥) Lower: -0.030457371024093717\n",
      " Revenue Per Share (Yuan ¥) Upper: 0.09244596699789767\n",
      "For  Revenue Per Share (Yuan ¥),total outlier cases: 478\n",
      "\n",
      "Lower quartile (25%) is: 0.0960833808321798 and Upper Quartile (75%) is: 0.1161550362348345\n",
      "iqr: 0.02007165540265471\n",
      "Cut Off is: 0.030107483103982063\n",
      " Operating Profit Per Share (Yuan ¥) Lower: 0.06597589772819773\n",
      " Operating Profit Per Share (Yuan ¥) Upper: 0.14626251933881657\n",
      "For  Operating Profit Per Share (Yuan ¥),total outlier cases: 442\n",
      "\n",
      "Lower quartile (25%) is: 0.170369812457634 and Upper Quartile (75%) is: 0.193492505837162\n",
      "iqr: 0.023122693379527992\n",
      "Cut Off is: 0.03468404006929199\n",
      " Per Share Net profit before tax (Yuan ¥) Lower: 0.135685772388342\n",
      " Per Share Net profit before tax (Yuan ¥) Upper: 0.22817654590645398\n",
      "For  Per Share Net profit before tax (Yuan ¥),total outlier cases: 511\n",
      "\n",
      "Lower quartile (25%) is: 0.022064532735505453 and Upper Quartile (75%) is: 0.022153148426612798\n",
      "iqr: 8.861569110734518e-05\n",
      "Cut Off is: 0.00013292353666101778\n",
      " Realized Sales Gross Profit Growth Rate Lower: 0.021931609198844435\n",
      " Realized Sales Gross Profit Growth Rate Upper: 0.022286071963273816\n",
      "For  Realized Sales Gross Profit Growth Rate,total outlier cases: 814\n",
      "\n",
      "Lower quartile (25%) is: 0.8479841081819834 and Upper Quartile (75%) is: 0.8481225403945605\n",
      "iqr: 0.0001384322125770332\n",
      "Cut Off is: 0.0002076483188655498\n",
      " Operating Profit Growth Rate Lower: 0.8477764598631179\n",
      " Operating Profit Growth Rate Upper: 0.848330188713426\n",
      "For  Operating Profit Growth Rate,total outlier cases: 1008\n",
      "\n",
      "Lower quartile (25%) is: 0.6892699337448115 and Upper Quartile (75%) is: 0.6896471679790515\n",
      "iqr: 0.00037723423423996483\n",
      "Cut Off is: 0.0005658513513599472\n",
      " After-tax Net Profit Growth Rate Lower: 0.6887040823934516\n",
      " After-tax Net Profit Growth Rate Upper: 0.6902130193304115\n",
      "For  After-tax Net Profit Growth Rate,total outlier cases: 1033\n",
      "\n",
      "Lower quartile (25%) is: 0.689270265563206 and Upper Quartile (75%) is: 0.6896470092832976\n",
      "iqr: 0.00037674372009155466\n",
      "Cut Off is: 0.000565115580137332\n",
      " Regular Net Profit Growth Rate Lower: 0.6887051499830688\n",
      " Regular Net Profit Growth Rate Upper: 0.690212124863435\n",
      "For  Regular Net Profit Growth Rate,total outlier cases: 1030\n",
      "\n",
      "Lower quartile (25%) is: 0.2175795122117655 and Upper Quartile (75%) is: 0.217621501194243\n",
      "iqr: 4.198898247750882e-05\n",
      "Cut Off is: 6.298347371626323e-05\n",
      " Continuous Net Profit Growth Rate Lower: 0.21751652873804922\n",
      " Continuous Net Profit Growth Rate Upper: 0.21768448466795925\n",
      "For  Continuous Net Profit Growth Rate,total outlier cases: 1042\n",
      "\n",
      "Lower quartile (25%) is: 4860000000.0 and Upper Quartile (75%) is: 7390000000.0\n",
      "iqr: 2530000000.0\n",
      "Cut Off is: 3795000000.0\n",
      " Total Asset Growth Rate Lower: 1065000000.0\n",
      " Total Asset Growth Rate Upper: 11185000000.0\n",
      "For  Total Asset Growth Rate,total outlier cases: 1381\n",
      "\n",
      "Lower quartile (25%) is: 0.0004409688868264 and Upper Quartile (75%) is: 0.000499362141038\n",
      "iqr: 5.839325421160002e-05\n",
      "Cut Off is: 8.758988131740003e-05\n",
      " Net Value Growth Rate Lower: 0.00035337900550899996\n",
      " Net Value Growth Rate Upper: 0.0005869520223554\n",
      "For  Net Value Growth Rate,total outlier cases: 792\n",
      "\n",
      "Lower quartile (25%) is: 0.263758926420651 and Upper Quartile (75%) is: 0.264388341065032\n",
      "iqr: 0.0006294146443809878\n",
      "Cut Off is: 0.0009441219665714817\n",
      " Total Asset Return Growth Rate Ratio Lower: 0.26281480445407956\n",
      " Total Asset Return Growth Rate Ratio Upper: 0.2653324630316035\n",
      "For  Total Asset Return Growth Rate Ratio,total outlier cases: 674\n",
      "\n",
      "Lower quartile (25%) is: 0.37474851905666695 and Upper Quartile (75%) is: 0.386731120301032\n",
      "iqr: 0.011982601244365065\n",
      "Cut Off is: 0.017973901866547598\n",
      " Cash Reinvestment % Lower: 0.3567746171901194\n",
      " Cash Reinvestment % Upper: 0.40470502216757964\n",
      "For  Cash Reinvestment %,total outlier cases: 617\n",
      "\n",
      "Lower quartile (25%) is: 0.00755504663011965 and Upper Quartile (75%) is: 0.0162695280201934\n",
      "iqr: 0.00871448139007375\n",
      "Cut Off is: 0.013071722085110626\n",
      " Current Ratio Lower: -0.005516675454990976\n",
      " Current Ratio Upper: 0.02934125010530403\n",
      "For  Current Ratio,total outlier cases: 589\n",
      "\n",
      "Lower quartile (25%) is: 0.004725903227376101 and Upper Quartile (75%) is: 0.01224910697241505\n",
      "iqr: 0.00752320374503895\n",
      "Cut Off is: 0.011284805617558425\n",
      " Quick Ratio Lower: -0.006558902390182324\n",
      " Quick Ratio Upper: 0.023533912589973477\n",
      "For  Quick Ratio,total outlier cases: 591\n",
      "\n",
      "Lower quartile (25%) is: 0.63061225188696 and Upper Quartile (75%) is: 0.631125258558102\n",
      "iqr: 0.0005130066711419579\n",
      "Cut Off is: 0.0007695100067129368\n",
      " Interest Expense Ratio Lower: 0.629842741880247\n",
      " Interest Expense Ratio Upper: 0.6318947685648149\n",
      "For  Interest Expense Ratio,total outlier cases: 1362\n",
      "\n",
      "Lower quartile (25%) is: 0.0030070491250148 and Upper Quartile (75%) is: 0.00927329266179695\n",
      "iqr: 0.0062662435367821494\n",
      "Cut Off is: 0.009399365305173223\n",
      " Total debt/Total net worth Lower: -0.006392316180158423\n",
      " Total debt/Total net worth Upper: 0.018672657966970173\n",
      "For  Total debt/Total net worth,total outlier cases: 407\n",
      "\n",
      "Lower quartile (25%) is: 0.0728905281615624 and Upper Quartile (75%) is: 0.148804305106267\n",
      "iqr: 0.0759137769447046\n",
      "Cut Off is: 0.1138706654170569\n",
      " Debt ratio % Lower: -0.0409801372554945\n",
      " Debt ratio % Upper: 0.2626749705233239\n",
      "For  Debt ratio %,total outlier cases: 30\n",
      "\n",
      "Lower quartile (25%) is: 0.8511956948937329 and Upper Quartile (75%) is: 0.927109471838438\n",
      "iqr: 0.07591377694470502\n",
      "Cut Off is: 0.11387066541705754\n",
      " Net worth/Assets Lower: 0.7373250294766753\n",
      " Net worth/Assets Upper: 1.0409801372554954\n",
      "For  Net worth/Assets,total outlier cases: 30\n",
      "\n",
      "Lower quartile (25%) is: 0.0052436836906082 and Upper Quartile (75%) is: 0.00684743246553585\n",
      "iqr: 0.0016037487749276502\n",
      "Cut Off is: 0.0024056231623914752\n",
      " Long-term fund suitability ratio (A) Lower: 0.0028380605282167246\n",
      " Long-term fund suitability ratio (A) Upper: 0.009253055627927324\n",
      "For  Long-term fund suitability ratio (A),total outlier cases: 810\n",
      "\n",
      "Lower quartile (25%) is: 0.3701678435547765 and Upper Quartile (75%) is: 0.3762707372009225\n",
      "iqr: 0.006102893646146024\n",
      "Cut Off is: 0.009154340469219036\n",
      " Borrowing dependency Lower: 0.36101350308555746\n",
      " Borrowing dependency Upper: 0.38542507767014156\n",
      "For  Borrowing dependency,total outlier cases: 321\n",
      "\n",
      "Lower quartile (25%) is: 0.0053658477137564 and Upper Quartile (75%) is: 0.00576435604952715\n",
      "iqr: 0.0003985083357707494\n",
      "Cut Off is: 0.0005977625036561241\n",
      " Contingent liabilities/Net worth Lower: 0.004768085210100276\n",
      " Contingent liabilities/Net worth Upper: 0.0063621185531832734\n",
      "For  Contingent liabilities/Net worth,total outlier cases: 942\n",
      "\n",
      "Lower quartile (25%) is: 0.0961046786197013 and Upper Quartile (75%) is: 0.115927337274252\n",
      "iqr: 0.0198226586545507\n",
      "Cut Off is: 0.029733987981826047\n",
      " Operating profit/Paid-in capital Lower: 0.06637069063787526\n",
      " Operating profit/Paid-in capital Upper: 0.14566132525607806\n",
      "For  Operating profit/Paid-in capital,total outlier cases: 446\n",
      "\n",
      "Lower quartile (25%) is: 0.169376366789835 and Upper Quartile (75%) is: 0.191606967800317\n",
      "iqr: 0.022230601010481993\n",
      "Cut Off is: 0.03334590151572299\n",
      " Net profit before tax/Paid-in capital Lower: 0.136030465274112\n",
      " Net profit before tax/Paid-in capital Upper: 0.22495286931603997\n",
      "For  Net profit before tax/Paid-in capital,total outlier cases: 476\n",
      "\n",
      "Lower quartile (25%) is: 0.3974026791778925 and Upper Quartile (75%) is: 0.404550770809581\n",
      "iqr: 0.007148091631688502\n",
      "Cut Off is: 0.010722137447532754\n",
      " Inventory and accounts receivable/Net value Lower: 0.38668054173035976\n",
      " Inventory and accounts receivable/Net value Upper: 0.41527290825711377\n",
      "For  Inventory and accounts receivable/Net value,total outlier cases: 421\n",
      "\n",
      "Lower quartile (25%) is: 0.0764617691154423 and Upper Quartile (75%) is: 0.176911544227886\n",
      "iqr: 0.1004497751124437\n",
      "Cut Off is: 0.15067466266866555\n",
      " Total Asset Turnover Lower: -0.07421289355322326\n",
      " Total Asset Turnover Upper: 0.32758620689655155\n",
      "For  Total Asset Turnover,total outlier cases: 351\n"
     ]
    },
    {
     "name": "stdout",
     "output_type": "stream",
     "text": [
      "\n",
      "Lower quartile (25%) is: 0.0007101336065656 and Upper Quartile (75%) is: 0.0014547594168788\n",
      "iqr: 0.0007446258103132001\n",
      "Cut Off is: 0.0011169387154698002\n",
      " Accounts Receivable Turnover Lower: -0.0004068051089042002\n",
      " Accounts Receivable Turnover Upper: 0.0025716981323486003\n",
      "For  Accounts Receivable Turnover,total outlier cases: 659\n",
      "\n",
      "Lower quartile (25%) is: 0.0043865304397204 and Upper Quartile (75%) is: 0.00897287558119175\n",
      "iqr: 0.004586345141471349\n",
      "Cut Off is: 0.006879517712207023\n",
      " Average Collection Days Lower: -0.002492987272486623\n",
      " Average Collection Days Upper: 0.015852393293398773\n",
      "For  Average Collection Days,total outlier cases: 193\n",
      "\n",
      "Lower quartile (25%) is: 0.0001728255554827 and Upper Quartile (75%) is: 4620000000.0\n",
      "iqr: 4619999999.999827\n",
      "Cut Off is: 6929999999.999741\n",
      " Inventory Turnover Rate (times) Lower: -6929999999.999568\n",
      " Inventory Turnover Rate (times) Upper: 11549999999.99974\n",
      "For  Inventory Turnover Rate (times),total outlier cases: 0\n",
      "\n",
      "Lower quartile (25%) is: 0.0002330013064716 and Upper Quartile (75%) is: 0.0036523711287173\n",
      "iqr: 0.0034193698222457\n",
      "Cut Off is: 0.00512905473336855\n",
      " Fixed Assets Turnover Frequency Lower: -0.00489605342689695\n",
      " Fixed Assets Turnover Frequency Upper: 0.00878142586208585\n",
      "For  Fixed Assets Turnover Frequency,total outlier cases: 1418\n",
      "\n",
      "Lower quartile (25%) is: 0.0217741935483871 and Upper Quartile (75%) is: 0.0429032258064516\n",
      "iqr: 0.021129032258064503\n",
      "Cut Off is: 0.03169354838709675\n",
      " Net Worth Turnover Rate (times) Lower: -0.009919354838709652\n",
      " Net Worth Turnover Rate (times) Upper: 0.07459677419354835\n",
      "For  Net Worth Turnover Rate (times),total outlier cases: 513\n",
      "\n",
      "Lower quartile (25%) is: 0.010432854016421151 and Upper Quartile (75%) is: 0.0358547655068079\n",
      "iqr: 0.025421911490386747\n",
      "Cut Off is: 0.03813286723558012\n",
      " Revenue per person Lower: -0.027700013219158968\n",
      " Revenue per person Upper: 0.07398763274238801\n",
      "For  Revenue per person,total outlier cases: 729\n",
      "\n",
      "Lower quartile (25%) is: 0.392437981954275 and Upper Quartile (75%) is: 0.40185093055335697\n",
      "iqr: 0.009412948599081983\n",
      "Cut Off is: 0.014119422898622974\n",
      " Operating profit per person Lower: 0.37831855905565204\n",
      " Operating profit per person Upper: 0.41597035345197997\n",
      "For  Operating profit per person,total outlier cases: 876\n",
      "\n",
      "Lower quartile (25%) is: 0.004120528997963601 and Upper Quartile (75%) is: 0.015020308976719\n",
      "iqr: 0.0108997799787554\n",
      "Cut Off is: 0.0163496699681331\n",
      " Allocation rate per person Lower: -0.012229140970169498\n",
      " Allocation rate per person Upper: 0.0313699789448521\n",
      "For  Allocation rate per person,total outlier cases: 693\n",
      "\n",
      "Lower quartile (25%) is: 0.774308962762401 and Upper Quartile (75%) is: 0.8503828485419616\n",
      "iqr: 0.07607388577956053\n",
      "Cut Off is: 0.1141108286693408\n",
      " Working Capital to Total Assets Lower: 0.6601981340930603\n",
      " Working Capital to Total Assets Upper: 0.9644936772113024\n",
      "For  Working Capital to Total Assets,total outlier cases: 75\n",
      "\n",
      "Lower quartile (25%) is: 0.24197285659394002 and Upper Quartile (75%) is: 0.540593673285078\n",
      "iqr: 0.298620816691138\n",
      "Cut Off is: 0.447931225036707\n",
      " Quick Assets/Total Assets Lower: -0.205958368442767\n",
      " Quick Assets/Total Assets Upper: 0.988524898321785\n",
      "For  Quick Assets/Total Assets,total outlier cases: 2\n",
      "\n",
      "Lower quartile (25%) is: 0.35284541721511353 and Upper Quartile (75%) is: 0.6890506806831516\n",
      "iqr: 0.33620526346803803\n",
      "Cut Off is: 0.504307895202057\n",
      " Current Assets/Total Assets Lower: -0.15146247798694346\n",
      " Current Assets/Total Assets Upper: 1.1933585758852086\n",
      "For  Current Assets/Total Assets,total outlier cases: 0\n",
      "\n",
      "Lower quartile (25%) is: 0.03354322123979425 and Upper Quartile (75%) is: 0.1610731518633315\n",
      "iqr: 0.12752993062353724\n",
      "Cut Off is: 0.19129489593530585\n",
      " Cash/Total Assets Lower: -0.1577516746955116\n",
      " Cash/Total Assets Upper: 0.35236804779863734\n",
      "For  Cash/Total Assets,total outlier cases: 496\n",
      "\n",
      "Lower quartile (25%) is: 0.00523977582664085 and Upper Quartile (75%) is: 0.0129509103075746\n",
      "iqr: 0.007711134480933751\n",
      "Cut Off is: 0.011566701721400625\n",
      " Quick Assets/Current Liability Lower: -0.0063269258947597756\n",
      " Quick Assets/Current Liability Upper: 0.024517612028975226\n",
      "For  Quick Assets/Current Liability,total outlier cases: 596\n",
      "\n",
      "Lower quartile (25%) is: 0.0019730075415488497 and Upper Quartile (75%) is: 0.0128055731079178\n",
      "iqr: 0.01083256556636895\n",
      "Cut Off is: 0.016248848349553424\n",
      " Cash/Current Liability Lower: -0.014275840808004574\n",
      " Cash/Current Liability Upper: 0.029054421457471225\n",
      "For  Cash/Current Liability,total outlier cases: 728\n",
      "\n",
      "Lower quartile (25%) is: 0.0533012764320206 and Upper Quartile (75%) is: 0.1195229934695275\n",
      "iqr: 0.0662217170375069\n",
      "Cut Off is: 0.09933257555626035\n",
      " Current Liability to Assets Lower: -0.04603129912423975\n",
      " Current Liability to Assets Upper: 0.21885556902578784\n",
      "For  Current Liability to Assets,total outlier cases: 95\n",
      "\n",
      "Lower quartile (25%) is: 0.34102297735578047 and Upper Quartile (75%) is: 0.3609148870133705\n",
      "iqr: 0.019891909657590023\n",
      "Cut Off is: 0.029837864486385035\n",
      " Operating Funds to Liability Lower: 0.31118511286939543\n",
      " Operating Funds to Liability Upper: 0.3907527514997555\n",
      "For  Operating Funds to Liability,total outlier cases: 657\n",
      "\n",
      "Lower quartile (25%) is: 0.2770339694810945 and Upper Quartile (75%) is: 0.2774287054274715\n",
      "iqr: 0.0003947359463770117\n",
      "Cut Off is: 0.0005921039195655176\n",
      " Inventory/Working Capital Lower: 0.27644186556152894\n",
      " Inventory/Working Capital Upper: 0.278020809347037\n",
      "For  Inventory/Working Capital,total outlier cases: 944\n",
      "\n",
      "Lower quartile (25%) is: 0.0031631476746991002 and Upper Quartile (75%) is: 0.011146766748190151\n",
      "iqr: 0.007983619073491051\n",
      "Cut Off is: 0.011975428610236576\n",
      " Inventory/Current Liability Lower: -0.008812280935537476\n",
      " Inventory/Current Liability Upper: 0.023122195358426727\n",
      "For  Inventory/Current Liability,total outlier cases: 426\n",
      "\n",
      "Lower quartile (25%) is: 0.6269807662218725 and Upper Quartile (75%) is: 0.942026693700069\n",
      "iqr: 0.3150459274781965\n",
      "Cut Off is: 0.47256889121729473\n",
      " Current Liabilities/Liability Lower: 0.15441187500457776\n",
      " Current Liabilities/Liability Upper: 1.4145955849173637\n",
      "For  Current Liabilities/Liability,total outlier cases: 40\n",
      "\n",
      "Lower quartile (25%) is: 0.733611818564342 and Upper Quartile (75%) is: 0.738559910578823\n",
      "iqr: 0.004948092014480987\n",
      "Cut Off is: 0.0074221380217214805\n",
      " Working Capital/Equity Lower: 0.7261896805426205\n",
      " Working Capital/Equity Upper: 0.7459820486005444\n",
      "For  Working Capital/Equity,total outlier cases: 153\n",
      "\n",
      "Lower quartile (25%) is: 0.328095841686878 and Upper Quartile (75%) is: 0.332322404809702\n",
      "iqr: 0.00422656312282399\n",
      "Cut Off is: 0.006339844684235985\n",
      " Current Liabilities/Equity Lower: 0.321755997002642\n",
      " Current Liabilities/Equity Upper: 0.338662249493938\n",
      "For  Current Liabilities/Equity,total outlier cases: 480\n",
      "\n",
      "Lower quartile (25%) is: 0.0 and Upper Quartile (75%) is: 0.009005945944256601\n",
      "iqr: 0.009005945944256601\n",
      "Cut Off is: 0.013508918916384902\n",
      " Long-term Liability to Current Assets Lower: -0.013508918916384902\n",
      " Long-term Liability to Current Assets Upper: 0.022514864860641505\n",
      "For  Long-term Liability to Current Assets,total outlier cases: 620\n",
      "\n",
      "Lower quartile (25%) is: 0.9310965081459854 and Upper Quartile (75%) is: 0.9448112860939986\n",
      "iqr: 0.013714777948013124\n",
      "Cut Off is: 0.020572166922019686\n",
      " Retained Earnings to Total Assets Lower: 0.9105243412239657\n",
      " Retained Earnings to Total Assets Upper: 0.9653834530160182\n",
      "For  Retained Earnings to Total Assets,total outlier cases: 633\n",
      "\n",
      "Lower quartile (25%) is: 0.0022355962096577498 and Upper Quartile (75%) is: 0.0024918511193838\n",
      "iqr: 0.00025625490972605016\n",
      "Cut Off is: 0.00038438236458907525\n",
      " Total income/Total expense Lower: 0.0018512138450686745\n",
      " Total income/Total expense Upper: 0.0028762334839728754\n",
      "For  Total income/Total expense,total outlier cases: 463\n",
      "\n",
      "Lower quartile (25%) is: 0.01456705658927065 and Upper Quartile (75%) is: 0.035930137895265155\n",
      "iqr: 0.021363081305994507\n",
      "Cut Off is: 0.032044621958991756\n",
      " Total expense/Assets Lower: -0.01747756536972111\n",
      " Total expense/Assets Upper: 0.06797475985425691\n",
      "For  Total expense/Assets,total outlier cases: 372\n",
      "\n",
      "Lower quartile (25%) is: 0.00014562362973865 and Upper Quartile (75%) is: 0.0004525945407579\n",
      "iqr: 0.00030697091101925\n",
      "Cut Off is: 0.000460456366528875\n",
      " Current Asset Turnover Rate Lower: -0.000314832736790225\n",
      " Current Asset Turnover Rate Upper: 0.000913050907286775\n",
      "For  Current Asset Turnover Rate,total outlier cases: 1399\n",
      "\n",
      "Lower quartile (25%) is: 0.00014171486236355001 and Upper Quartile (75%) is: 4900000000.0\n",
      "iqr: 4899999999.999858\n",
      "Cut Off is: 7349999999.999786\n",
      " Quick Asset Turnover Rate Lower: -7349999999.999644\n",
      " Quick Asset Turnover Rate Upper: 12249999999.999786\n",
      "For  Quick Asset Turnover Rate,total outlier cases: 0\n",
      "\n",
      "Lower quartile (25%) is: 0.5939344215587965 and Upper Quartile (75%) is: 0.5940023454696105\n",
      "iqr: 6.792391081400506e-05\n",
      "Cut Off is: 0.00010188586622100759\n",
      " Working capitcal Turnover Rate Lower: 0.5938325356925755\n",
      " Working capitcal Turnover Rate Upper: 0.5941042313358316\n",
      "For  Working capitcal Turnover Rate,total outlier cases: 578\n",
      "\n",
      "Lower quartile (25%) is: 0.0002735337396781 and Upper Quartile (75%) is: 4510000000.0\n",
      "iqr: 4509999999.999726\n",
      "Cut Off is: 6764999999.99959\n",
      " Cash Turnover Rate Lower: -6764999999.999316\n",
      " Cash Turnover Rate Upper: 11274999999.99959\n",
      "For  Cash Turnover Rate,total outlier cases: 0\n",
      "\n",
      "Lower quartile (25%) is: 0.671565259253275 and Upper Quartile (75%) is: 0.671586580417158\n",
      "iqr: 2.132116388298133e-05\n",
      "Cut Off is: 3.1981745824471997e-05\n",
      " Cash Flow to Sales Lower: 0.6715332775074505\n",
      " Cash Flow to Sales Upper: 0.6716185621629824\n",
      "For  Cash Flow to Sales,total outlier cases: 1052\n",
      "\n",
      "Lower quartile (25%) is: 0.0853603651897917 and Upper Quartile (75%) is: 0.3721999782647555\n",
      "iqr: 0.28683961307496375\n",
      "Cut Off is: 0.4302594196124456\n",
      " Fixed Assets to Assets Lower: -0.3448990544226539\n",
      " Fixed Assets to Assets Upper: 0.8024593978772011\n",
      "For  Fixed Assets to Assets,total outlier cases: 62\n",
      "\n",
      "Lower quartile (25%) is: 0.6269807662218725 and Upper Quartile (75%) is: 0.942026693700069\n",
      "iqr: 0.3150459274781965\n",
      "Cut Off is: 0.47256889121729473\n",
      " Current Liability to Liability Lower: 0.15441187500457776\n",
      " Current Liability to Liability Upper: 1.4145955849173637\n",
      "For  Current Liability to Liability,total outlier cases: 40\n",
      "\n",
      "Lower quartile (25%) is: 0.328095841686878 and Upper Quartile (75%) is: 0.332322404809702\n",
      "iqr: 0.00422656312282399\n",
      "Cut Off is: 0.006339844684235985\n",
      " Current Liability to Equity Lower: 0.321755997002642\n",
      " Current Liability to Equity Upper: 0.338662249493938\n",
      "For  Current Liability to Equity,total outlier cases: 480\n",
      "\n",
      "Lower quartile (25%) is: 0.110933233663468 and Upper Quartile (75%) is: 0.117106091075626\n",
      "iqr: 0.006172857412158006\n",
      "Cut Off is: 0.009259286118237009\n",
      " Equity to Long-term Liability Lower: 0.10167394754523099\n",
      " Equity to Long-term Liability Upper: 0.126365377193863\n",
      "For  Equity to Long-term Liability,total outlier cases: 406\n",
      "\n",
      "Lower quartile (25%) is: 0.633265319013864 and Upper Quartile (75%) is: 0.6630618534616091\n",
      "iqr: 0.029796534447745104\n",
      "Cut Off is: 0.04469480167161766\n",
      " Cash Flow to Total Assets Lower: 0.5885705173422463\n",
      " Cash Flow to Total Assets Upper: 0.7077566551332267\n",
      "For  Cash Flow to Total Assets,total outlier cases: 878\n",
      "\n",
      "Lower quartile (25%) is: 0.4571164765642225 and Upper Quartile (75%) is: 0.46423584697152853\n",
      "iqr: 0.007119370407306036\n",
      "Cut Off is: 0.010679055610959054\n",
      " Cash Flow to Liability Lower: 0.44643742095326344\n",
      " Cash Flow to Liability Upper: 0.4749149025824876\n",
      "For  Cash Flow to Liability,total outlier cases: 1212\n",
      "\n",
      "Lower quartile (25%) is: 0.5659869401753586 and Upper Quartile (75%) is: 0.6247688757833555\n",
      "iqr: 0.05878193560799694\n",
      "Cut Off is: 0.0881729034119954\n",
      " CFO to Assets Lower: 0.47781403676336315\n",
      " CFO to Assets Upper: 0.712941779195351\n",
      "For  CFO to Assets,total outlier cases: 342\n",
      "\n",
      "Lower quartile (25%) is: 0.312994699600273 and Upper Quartile (75%) is: 0.317707188742567\n",
      "iqr: 0.004712489142293996\n",
      "Cut Off is: 0.0070687337134409944\n",
      " Cash Flow to Equity Lower: 0.30592596588683196\n",
      " Cash Flow to Equity Upper: 0.32477592245600795\n",
      "For  Cash Flow to Equity,total outlier cases: 827\n",
      "\n",
      "Lower quartile (25%) is: 0.018033665707965 and Upper Quartile (75%) is: 0.0383746158541899\n",
      "iqr: 0.0203409501462249\n",
      "Cut Off is: 0.03051142521933735\n",
      " Current Liability to Current Assets Lower: -0.012477759511372349\n",
      " Current Liability to Current Assets Upper: 0.06888604107352725\n",
      "For  Current Liability to Current Assets,total outlier cases: 276\n",
      "\n",
      "Lower quartile (25%) is: 0.0 and Upper Quartile (75%) is: 0.0\n",
      "iqr: 0.0\n",
      "Cut Off is: 0.0\n",
      " Liability-Assets Flag Lower: 0.0\n",
      " Liability-Assets Flag Upper: 0.0\n",
      "For  Liability-Assets Flag,total outlier cases: 8\n",
      "\n",
      "Lower quartile (25%) is: 0.7967498491931705 and Upper Quartile (75%) is: 0.8264545295408715\n",
      "iqr: 0.029704680347701018\n",
      "Cut Off is: 0.04455702052155153\n",
      " Net Income to Total Assets Lower: 0.752192828671619\n",
      " Net Income to Total Assets Upper: 0.871011550062423\n",
      "For  Net Income to Total Assets,total outlier cases: 561\n",
      "\n",
      "Lower quartile (25%) is: 0.0009036204813306 and Upper Quartile (75%) is: 0.0052697768568805\n",
      "iqr: 0.0043661563755499\n",
      "Cut Off is: 0.00654923456332485\n",
      " Total assets to GNP price Lower: -0.005645614081994249\n",
      " Total assets to GNP price Upper: 0.01181901142020535\n",
      "For  Total assets to GNP price,total outlier cases: 797\n",
      "\n",
      "Lower quartile (25%) is: 0.623636304973909 and Upper Quartile (75%) is: 0.6241681927893561\n",
      "iqr: 0.0005318878154471074\n",
      "Cut Off is: 0.0007978317231706611\n",
      " No-credit Interval Lower: 0.6228384732507384\n",
      " No-credit Interval Upper: 0.6249660245125268\n",
      "For  No-credit Interval,total outlier cases: 1139\n",
      "\n",
      "Lower quartile (25%) is: 0.6004428952063054 and Upper Quartile (75%) is: 0.613913271038147\n",
      "iqr: 0.013470375831841519\n",
      "Cut Off is: 0.02020556374776228\n",
      " Gross Profit to Sales Lower: 0.5802373314585432\n",
      " Gross Profit to Sales Upper: 0.6341188347859092\n",
      "For  Gross Profit to Sales,total outlier cases: 320\n",
      "\n",
      "Lower quartile (25%) is: 0.8401148040637195 and Upper Quartile (75%) is: 0.8423569700412374\n",
      "iqr: 0.002242165977517918\n",
      "Cut Off is: 0.003363248966276877\n",
      " Net Income to Stockholder's Equity Lower: 0.8367515550974427\n",
      " Net Income to Stockholder's Equity Upper: 0.8457202190075144\n",
      "For  Net Income to Stockholder's Equity,total outlier cases: 571\n"
     ]
    },
    {
     "name": "stdout",
     "output_type": "stream",
     "text": [
      "\n",
      "Lower quartile (25%) is: 0.276944242646329 and Upper Quartile (75%) is: 0.2814491856088265\n",
      "iqr: 0.004504942962497482\n",
      "Cut Off is: 0.006757414443746224\n",
      " Liability to Equity Lower: 0.2701868282025828\n",
      " Liability to Equity Upper: 0.2882066000525727\n",
      "For  Liability to Equity,total outlier cases: 404\n",
      "\n",
      "Lower quartile (25%) is: 0.0267911566924924 and Upper Quartile (75%) is: 0.026913184214613348\n",
      "iqr: 0.00012202752212094742\n",
      "Cut Off is: 0.00018304128318142113\n",
      " Degree of Financial Leverage (DFL) Lower: 0.02660811540931098\n",
      " Degree of Financial Leverage (DFL) Upper: 0.02709622549779477\n",
      "For  Degree of Financial Leverage (DFL),total outlier cases: 1503\n",
      "\n",
      "Lower quartile (25%) is: 0.565158395757604 and Upper Quartile (75%) is: 0.565724709506105\n",
      "iqr: 0.0005663137485010239\n",
      "Cut Off is: 0.0008494706227515358\n",
      " Interest Coverage Ratio (Interest expense to EBIT) Lower: 0.5643089251348524\n",
      " Interest Coverage Ratio (Interest expense to EBIT) Upper: 0.5665741801288565\n",
      "For  Interest Coverage Ratio (Interest expense to EBIT),total outlier cases: 1421\n",
      "\n",
      "Lower quartile (25%) is: 1.0 and Upper Quartile (75%) is: 1.0\n",
      "iqr: 0.0\n",
      "Cut Off is: 0.0\n",
      " Net Income Flag Lower: 1.0\n",
      " Net Income Flag Upper: 1.0\n",
      "For  Net Income Flag,total outlier cases: 0\n",
      "\n",
      "Lower quartile (25%) is: 0.024476693570910098 and Upper Quartile (75%) is: 0.052837817459331596\n",
      "iqr: 0.028361123888421498\n",
      "Cut Off is: 0.04254168583263225\n",
      " Equity to Liability Lower: -0.018064992261722153\n",
      " Equity to Liability Upper: 0.09537950329196385\n",
      "For  Equity to Liability,total outlier cases: 549\n",
      "\n"
     ]
    }
   ],
   "source": [
    "def outliers_treated(variable,variable_name,df):\n",
    "    \n",
    "    # 25th & 75th quartiles of the data\n",
    "    low_qrt = np.percentile(variable, 25)\n",
    "    up_qrt = np.percentile(variable, 75)\n",
    "    print(f'Lower quartile (25%) is: {low_qrt} and Upper Quartile (75%) is: {up_qrt}')\n",
    "    iqr_qrt = up_qrt - low_qrt\n",
    "    print(f'iqr: {iqr_qrt}')\n",
    "    \n",
    "    cut_off_var = iqr_qrt * 1.5\n",
    "    lower_var, upper_var = low_qrt - cut_off_var, up_qrt + cut_off_var\n",
    "    print(f'Cut Off is: {cut_off_var}')\n",
    "    print(variable_name +' Lower: {}'.format(lower_var))\n",
    "    print(variable_name +' Upper: {}'.format(upper_var))\n",
    "    \n",
    "    outliers = [val for val in variable if val < lower_var or val > upper_var]\n",
    "    print(f'For {variable_name},total outlier cases: {len(outliers)}')\n",
    "\n",
    "    df = df.drop(df[(df[variable_name] > upper_var) | (df[variable_name] < lower_var)].index)\n",
    "    print(\"\")\n",
    "    \n",
    "    return df\n",
    "\n",
    "for column in company:\n",
    "    company_upd = outliers_treated(company[column],str(column),company)"
   ]
  },
  {
   "cell_type": "markdown",
   "id": "74b596c9",
   "metadata": {},
   "source": [
    "<br id=\"3\">\n",
    "<a href=\"#index\"  style=\"color:#033a91; font-size: 22px; text-decoration: none; font-weight:bold;\"> 3. Training and Scaling Data </a>\n",
    "<hr style=\"height:1px;border-width:0;color:gray;background-color:gray\">\n"
   ]
  },
  {
   "cell_type": "code",
   "execution_count": 10,
   "id": "cfcfd6fc",
   "metadata": {},
   "outputs": [],
   "source": [
    "X = company_upd.drop('Bankrupt?', axis=1)\n",
    "y = company_upd['Bankrupt?']\n",
    "\n",
    "# Select the binary columns from the original dataframe\n",
    "binary_cols = [' Liability-Assets Flag', ' Net Income Flag']\n",
    "\n",
    "# split the data into training and testing sets\n",
    "X_train, X_test, y_train, y_test = train_test_split(X, y, test_size=0.3, random_state=42)\n",
    "\n",
    "scale = StandardScaler()\n",
    "\n",
    "# Reset the index of the original dataframe and the scaled features\n",
    "X_train_reset = X_train.reset_index(drop=True) \n",
    "\n",
    "X_train_sc = pd.DataFrame(scale.fit_transform(X_train.drop(binary_cols, axis=1)), columns=X_train.drop(binary_cols,\n",
    "                                                                                                       axis=1).columns)\n",
    "X_train_scaled = X_train_sc.reset_index(drop=True)\n",
    "\n",
    "X_train = pd.concat([X_train_scaled, X_train_reset[binary_cols]], axis=1)\n",
    "\n",
    "# Reset the index of the original dataframe and the scaled features\n",
    "X_test_reset = X_test.reset_index(drop=True)\n",
    "\n",
    "X_test_sc = pd.DataFrame(scale.transform(X_test.drop(binary_cols, axis=1)), columns=X_test.drop(binary_cols, axis=1)\n",
    "                         .columns)\n",
    "X_test_scaled = X_test_sc.reset_index(drop=True)\n",
    "\n",
    "X_test = pd.concat([X_test_scaled, X_test_reset[binary_cols]], axis=1)\n"
   ]
  },
  {
   "cell_type": "code",
   "execution_count": 11,
   "id": "5b5391b2",
   "metadata": {},
   "outputs": [
    {
     "data": {
      "text/plain": [
       "[]"
      ]
     },
     "execution_count": 11,
     "metadata": {},
     "output_type": "execute_result"
    }
   ],
   "source": [
    "X_train.isna().sum()\n",
    "\n",
    "#NaNs check\n",
    "[print(col) for col in X_train if X_train[col].isna().sum() > 0]\n",
    "\n",
    "X_test.isna().sum()\n",
    "\n",
    "#NaNs check\n",
    "[print(col) for col in X_test if X_test[col].isna().sum() > 0]"
   ]
  },
  {
   "cell_type": "markdown",
   "id": "442354ff",
   "metadata": {},
   "source": [
    "<br id=\"4\">\n",
    "<a href=\"#index\" style=\"color:#033a91; font-size: 22px; text-decoration: none; font-weight:bold;\"> 4. SMOTE Oversampling  </a>\n",
    "<hr style=\"height:1px;border-width:0;color:gray;background-color:gray\">"
   ]
  },
  {
   "cell_type": "code",
   "execution_count": 12,
   "id": "3fd4c4d1",
   "metadata": {},
   "outputs": [],
   "source": [
    "# perform oversampling on the training data using SMOTE\n",
    "\n",
    "sm1 = SMOTE(random_state=42)\n",
    "X_train_bal1, y_train_bal1 = sm1.fit_resample(X_train, y_train)"
   ]
  },
  {
   "cell_type": "code",
   "execution_count": 13,
   "id": "1a1bb521",
   "metadata": {},
   "outputs": [
    {
     "name": "stdout",
     "output_type": "stream",
     "text": [
      "0    4228\n",
      "1    4228\n",
      "Name: Bankrupt?, dtype: int64\n"
     ]
    }
   ],
   "source": [
    "target_counts = y_train_bal1.value_counts()\n",
    "print(target_counts)"
   ]
  },
  {
   "cell_type": "code",
   "execution_count": 15,
   "id": "f9d0f99f",
   "metadata": {},
   "outputs": [
    {
     "data": {
      "text/plain": [
       "((8456, 95), (1881, 95), (8456,), (1881,))"
      ]
     },
     "execution_count": 15,
     "metadata": {},
     "output_type": "execute_result"
    }
   ],
   "source": [
    "X_train_bal1.shape,X_test.shape,y_train_bal1.shape,y_test.shape"
   ]
  },
  {
   "cell_type": "markdown",
   "id": "6b59a4a5",
   "metadata": {},
   "source": [
    "<br id=\"5\">\n",
    "<a href=\"#index\" style=\"color:#033a91; font-size: 22px; text-decoration: none; font-weight:bold;\"> 5. Baseline Model: Logistic Regression </a>\n",
    "<hr style=\"height:1px;border-width:0;color:gray;background-color:gray\">"
   ]
  },
  {
   "cell_type": "code",
   "execution_count": 30,
   "id": "c070b82b",
   "metadata": {},
   "outputs": [
    {
     "name": "stdout",
     "output_type": "stream",
     "text": [
      "Accuracy: 0.8904837852206273\n",
      "Classification Report:\n",
      "               precision    recall  f1-score   support\n",
      "\n",
      "           0       0.99      0.90      0.94      1824\n",
      "           1       0.17      0.68      0.27        57\n",
      "\n",
      "    accuracy                           0.89      1881\n",
      "   macro avg       0.58      0.79      0.61      1881\n",
      "weighted avg       0.96      0.89      0.92      1881\n",
      "\n",
      "[[1636  188]\n",
      " [  18   39]]\n",
      "\n",
      "F1 Score  0.2746478873239437\n",
      "Balanced Accuracy Score  0.7905701754385965\n"
     ]
    }
   ],
   "source": [
    "#CELL 0\n",
    "\n",
    "logreg3 = LogisticRegression()\n",
    "logreg3.fit(X_train_bal1, y_train_bal1)\n",
    "\n",
    "# Predict on the test set\n",
    "logpred3 = logreg3.predict(X_test)\n",
    "\n",
    "# Calculate accuracy and print classification report\n",
    "accuracy = accuracy_score(y_test, logpred3)\n",
    "report = classification_report(y_test, logpred3)\n",
    "print('Accuracy:', accuracy)\n",
    "print('Classification Report:\\n', report)\n",
    "print(confusion_matrix(y_test, logpred3))\n",
    "print(\"\")\n",
    "print(\"F1 Score \",f1_score(y_test, logpred3))\n",
    "print(\"Balanced Accuracy Score \",balanced_accuracy_score(y_test, logpred3))"
   ]
  },
  {
   "cell_type": "markdown",
   "id": "3dac900a",
   "metadata": {},
   "source": [
    "<br id=\"6\">\n",
    "<a href=\"#index\" style=\"color:#033a91; font-size: 22px; text-decoration: none; font-weight:bold;\"> 6. Model 1: 5-layer-ANN-SMOTE </a>\n",
    "<hr style=\"height:1px;border-width:0;color:gray;background-color:gray\">"
   ]
  },
  {
   "cell_type": "code",
   "execution_count": 25,
   "id": "cab449cf",
   "metadata": {},
   "outputs": [],
   "source": [
    "from keras.callbacks import Callback,ModelCheckpoint\n",
    "from keras.models import Sequential,load_model\n",
    "from keras.layers import Dense, Dropout\n",
    "from keras.wrappers.scikit_learn import KerasClassifier\n",
    "import keras.backend as K\n",
    "\n",
    "def get_f1(y_true, y_pred): #taken from old keras source code\n",
    "    TP = K.sum(K.round(K.clip(y_true * y_pred, 0, 1)))\n",
    "    P = K.sum(K.round(K.clip(y_true, 0, 1))) #what we call all truly possible positives: TP+FN\n",
    "    P_ = K.sum(K.round(K.clip(y_pred, 0, 1))) #what we call all predicted positives: TP+FP\n",
    "    precision = TP / (P_ + K.epsilon())\n",
    "    recall = TP / (P + K.epsilon())\n",
    "    f1_value = 2*(precision*recall)/(precision+recall+K.epsilon())\n",
    "    return f1_value"
   ]
  },
  {
   "cell_type": "markdown",
   "id": "fc8840b2",
   "metadata": {},
   "source": [
    "<br id=\"6.1\">\n",
    "<a href=\"#index\" style=\"color:#033a91; font-size: 16px; text-decoration: none; font-weight:bold;\">6.1 Tuning the hyperparameters</a>\n"
   ]
  },
  {
   "cell_type": "code",
   "execution_count": 45,
   "id": "a35cdc43",
   "metadata": {
    "scrolled": true
   },
   "outputs": [
    {
     "name": "stdout",
     "output_type": "stream",
     "text": [
      "|   iter    |  target   | activa... | batch_... |  epochs   | learni... |  neurons  | optimizer |\n",
      "-------------------------------------------------------------------------------------------------\n",
      "53/53 [==============================] - 0s 2ms/step\n",
      "53/53 [==============================] - 0s 2ms/step\n",
      "53/53 [==============================] - 0s 4ms/step\n",
      "53/53 [==============================] - 1s 2ms/step\n",
      "53/53 [==============================] - 0s 2ms/step\n",
      "| \u001b[0m1        \u001b[0m | \u001b[0m0.4241   \u001b[0m | \u001b[0m5.51     \u001b[0m | \u001b[0m335.3    \u001b[0m | \u001b[0m54.88    \u001b[0m | \u001b[0m0.7716   \u001b[0m | \u001b[0m36.58    \u001b[0m | \u001b[0m1.044    \u001b[0m |\n",
      "53/53 [==============================] - 0s 2ms/step\n",
      "53/53 [==============================] - 0s 2ms/step\n",
      "53/53 [==============================] - 1s 5ms/step\n",
      "53/53 [==============================] - 0s 3ms/step\n",
      "53/53 [==============================] - 0s 2ms/step\n",
      "| \u001b[95m2        \u001b[0m | \u001b[95m0.4757   \u001b[0m | \u001b[95m0.2023   \u001b[0m | \u001b[95m536.2    \u001b[0m | \u001b[95m39.09    \u001b[0m | \u001b[95m0.3443   \u001b[0m | \u001b[95m99.16    \u001b[0m | \u001b[95m1.664    \u001b[0m |\n",
      "53/53 [==============================] - 0s 2ms/step\n",
      "53/53 [==============================] - 0s 2ms/step\n",
      "53/53 [==============================] - 0s 4ms/step\n",
      "53/53 [==============================] - 0s 2ms/step\n",
      "53/53 [==============================] - 1s 1ms/step\n",
      "| \u001b[0m3        \u001b[0m | \u001b[0m0.2666   \u001b[0m | \u001b[0m0.7307   \u001b[0m | \u001b[0m735.7    \u001b[0m | \u001b[0m69.7     \u001b[0m | \u001b[0m0.2815   \u001b[0m | \u001b[0m51.96    \u001b[0m | \u001b[0m0.8286   \u001b[0m |\n",
      "53/53 [==============================] - 0s 2ms/step\n",
      "53/53 [==============================] - 0s 2ms/step\n",
      "53/53 [==============================] - 0s 2ms/step\n",
      "53/53 [==============================] - 0s 2ms/step\n",
      "53/53 [==============================] - 0s 2ms/step\n",
      "| \u001b[0m4        \u001b[0m | \u001b[0m0.3999   \u001b[0m | \u001b[0m0.6656   \u001b[0m | \u001b[0m920.6    \u001b[0m | \u001b[0m83.52    \u001b[0m | \u001b[0m0.8422   \u001b[0m | \u001b[0m83.37    \u001b[0m | \u001b[0m6.937    \u001b[0m |\n",
      "53/53 [==============================] - 0s 3ms/step\n",
      "53/53 [==============================] - 1s 8ms/step\n",
      "53/53 [==============================] - 0s 2ms/step\n",
      "53/53 [==============================] - 0s 2ms/step\n",
      "53/53 [==============================] - 0s 2ms/step\n",
      "| \u001b[95m5        \u001b[0m | \u001b[95m0.9778   \u001b[0m | \u001b[95m5.195    \u001b[0m | \u001b[95m851.0    \u001b[0m | \u001b[95m53.71    \u001b[0m | \u001b[95m0.03717  \u001b[0m | \u001b[95m50.87    \u001b[0m | \u001b[95m0.7373   \u001b[0m |\n",
      "53/53 [==============================] - 0s 2ms/step\n",
      "53/53 [==============================] - 0s 2ms/step\n",
      "53/53 [==============================] - 0s 2ms/step\n",
      "53/53 [==============================] - 0s 2ms/step\n",
      "53/53 [==============================] - 0s 3ms/step\n",
      "| \u001b[0m6        \u001b[0m | \u001b[0m0.0      \u001b[0m | \u001b[0m7.355    \u001b[0m | \u001b[0m758.2    \u001b[0m | \u001b[0m65.22    \u001b[0m | \u001b[0m0.2815   \u001b[0m | \u001b[0m99.86    \u001b[0m | \u001b[0m0.9663   \u001b[0m |\n",
      "53/53 [==============================] - 0s 2ms/step\n",
      "53/53 [==============================] - 0s 2ms/step\n",
      "53/53 [==============================] - 0s 1ms/step\n",
      "53/53 [==============================] - 0s 2ms/step\n",
      "53/53 [==============================] - 0s 6ms/step\n",
      "| \u001b[0m7        \u001b[0m | \u001b[0m0.4025   \u001b[0m | \u001b[0m5.539    \u001b[0m | \u001b[0m588.0    \u001b[0m | \u001b[0m52.4     \u001b[0m | \u001b[0m0.7306   \u001b[0m | \u001b[0m39.05    \u001b[0m | \u001b[0m2.804    \u001b[0m |\n",
      "53/53 [==============================] - 0s 2ms/step\n",
      "53/53 [==============================] - 0s 2ms/step\n",
      "53/53 [==============================] - 1s 5ms/step\n",
      "53/53 [==============================] - 0s 2ms/step\n",
      "53/53 [==============================] - 0s 5ms/step\n",
      "| \u001b[0m8        \u001b[0m | \u001b[0m0.8624   \u001b[0m | \u001b[0m2.871    \u001b[0m | \u001b[0m957.8    \u001b[0m | \u001b[0m93.5     \u001b[0m | \u001b[0m0.8157   \u001b[0m | \u001b[0m13.07    \u001b[0m | \u001b[0m6.604    \u001b[0m |\n",
      "53/53 [==============================] - 0s 2ms/step\n",
      "53/53 [==============================] - 0s 4ms/step\n",
      "53/53 [==============================] - 0s 3ms/step\n",
      "53/53 [==============================] - 0s 5ms/step\n",
      "53/53 [==============================] - 0s 3ms/step\n",
      "| \u001b[0m9        \u001b[0m | \u001b[0m0.5797   \u001b[0m | \u001b[0m8.554    \u001b[0m | \u001b[0m845.3    \u001b[0m | \u001b[0m58.5     \u001b[0m | \u001b[0m0.9671   \u001b[0m | \u001b[0m47.53    \u001b[0m | \u001b[0m2.232    \u001b[0m |\n",
      "53/53 [==============================] - 1s 5ms/step\n",
      "53/53 [==============================] - 0s 4ms/step\n",
      "53/53 [==============================] - 0s 3ms/step\n",
      "53/53 [==============================] - 0s 3ms/step\n",
      "53/53 [==============================] - 1s 7ms/step\n",
      "| \u001b[0m10       \u001b[0m | \u001b[0m0.9148   \u001b[0m | \u001b[0m0.148    \u001b[0m | \u001b[0m230.5    \u001b[0m | \u001b[0m24.25    \u001b[0m | \u001b[0m0.1367   \u001b[0m | \u001b[0m13.0     \u001b[0m | \u001b[0m1.585    \u001b[0m |\n",
      "53/53 [==============================] - 1s 9ms/step\n",
      "53/53 [==============================] - 1s 6ms/step\n",
      "53/53 [==============================] - 0s 2ms/step\n",
      "53/53 [==============================] - 0s 2ms/step\n",
      "53/53 [==============================] - 0s 2ms/step\n",
      "| \u001b[0m11       \u001b[0m | \u001b[0m0.8267   \u001b[0m | \u001b[0m4.895    \u001b[0m | \u001b[0m342.9    \u001b[0m | \u001b[0m34.35    \u001b[0m | \u001b[0m0.1581   \u001b[0m | \u001b[0m71.47    \u001b[0m | \u001b[0m3.283    \u001b[0m |\n",
      "53/53 [==============================] - 0s 2ms/step\n",
      "53/53 [==============================] - 0s 4ms/step\n",
      "53/53 [==============================] - 0s 2ms/step\n",
      "53/53 [==============================] - 0s 2ms/step\n",
      "53/53 [==============================] - 0s 2ms/step\n",
      "| \u001b[0m12       \u001b[0m | \u001b[0m0.0      \u001b[0m | \u001b[0m6.914    \u001b[0m | \u001b[0m735.1    \u001b[0m | \u001b[0m55.3     \u001b[0m | \u001b[0m0.5993   \u001b[0m | \u001b[0m51.55    \u001b[0m | \u001b[0m6.743    \u001b[0m |\n",
      "53/53 [==============================] - 0s 3ms/step\n",
      "53/53 [==============================] - 0s 4ms/step\n",
      "53/53 [==============================] - 0s 2ms/step\n",
      "53/53 [==============================] - 0s 2ms/step\n",
      "53/53 [==============================] - 0s 2ms/step\n",
      "| \u001b[0m13       \u001b[0m | \u001b[0m0.2667   \u001b[0m | \u001b[0m1.33     \u001b[0m | \u001b[0m925.5    \u001b[0m | \u001b[0m59.83    \u001b[0m | \u001b[0m0.5966   \u001b[0m | \u001b[0m71.62    \u001b[0m | \u001b[0m1.242    \u001b[0m |\n",
      "53/53 [==============================] - 0s 2ms/step\n",
      "53/53 [==============================] - 0s 2ms/step\n",
      "53/53 [==============================] - 0s 2ms/step\n",
      "53/53 [==============================] - 0s 2ms/step\n",
      "53/53 [==============================] - 0s 2ms/step\n",
      "| \u001b[0m14       \u001b[0m | \u001b[0m0.9536   \u001b[0m | \u001b[0m7.782    \u001b[0m | \u001b[0m585.7    \u001b[0m | \u001b[0m25.55    \u001b[0m | \u001b[0m0.3711   \u001b[0m | \u001b[0m42.54    \u001b[0m | \u001b[0m3.304    \u001b[0m |\n",
      "53/53 [==============================] - 0s 2ms/step\n",
      "53/53 [==============================] - 0s 2ms/step\n",
      "53/53 [==============================] - 0s 2ms/step\n",
      "53/53 [==============================] - 0s 3ms/step\n",
      "53/53 [==============================] - 1s 8ms/step\n",
      "| \u001b[0m15       \u001b[0m | \u001b[0m0.6479   \u001b[0m | \u001b[0m1.615    \u001b[0m | \u001b[0m340.2    \u001b[0m | \u001b[0m95.93    \u001b[0m | \u001b[0m0.6591   \u001b[0m | \u001b[0m22.15    \u001b[0m | \u001b[0m6.495    \u001b[0m |\n",
      "53/53 [==============================] - 0s 3ms/step\n",
      "53/53 [==============================] - 0s 2ms/step\n",
      "53/53 [==============================] - 1s 5ms/step\n",
      "53/53 [==============================] - 0s 2ms/step\n",
      "53/53 [==============================] - 0s 3ms/step\n",
      "| \u001b[0m16       \u001b[0m | \u001b[0m0.9068   \u001b[0m | \u001b[0m7.576    \u001b[0m | \u001b[0m242.2    \u001b[0m | \u001b[0m36.29    \u001b[0m | \u001b[0m0.8738   \u001b[0m | \u001b[0m70.65    \u001b[0m | \u001b[0m2.081    \u001b[0m |\n",
      "53/53 [==============================] - 0s 2ms/step\n",
      "53/53 [==============================] - 0s 2ms/step\n",
      "53/53 [==============================] - 0s 1ms/step\n",
      "53/53 [==============================] - 0s 2ms/step\n",
      "53/53 [==============================] - 0s 2ms/step\n",
      "| \u001b[0m17       \u001b[0m | \u001b[0m0.0      \u001b[0m | \u001b[0m6.61     \u001b[0m | \u001b[0m694.7    \u001b[0m | \u001b[0m36.84    \u001b[0m | \u001b[0m0.804    \u001b[0m | \u001b[0m15.32    \u001b[0m | \u001b[0m2.158    \u001b[0m |\n",
      "53/53 [==============================] - 0s 3ms/step\n",
      "53/53 [==============================] - 0s 2ms/step\n",
      "53/53 [==============================] - 0s 2ms/step\n",
      "53/53 [==============================] - 0s 2ms/step\n",
      "53/53 [==============================] - 0s 2ms/step\n",
      "| \u001b[0m18       \u001b[0m | \u001b[0m0.5998   \u001b[0m | \u001b[0m1.866    \u001b[0m | \u001b[0m977.8    \u001b[0m | \u001b[0m92.75    \u001b[0m | \u001b[0m0.6797   \u001b[0m | \u001b[0m20.37    \u001b[0m | \u001b[0m6.706    \u001b[0m |\n",
      "53/53 [==============================] - 0s 2ms/step\n",
      "53/53 [==============================] - 0s 2ms/step\n",
      "53/53 [==============================] - 0s 2ms/step\n",
      "53/53 [==============================] - 0s 2ms/step\n",
      "53/53 [==============================] - 0s 2ms/step\n",
      "| \u001b[0m19       \u001b[0m | \u001b[0m0.1333   \u001b[0m | \u001b[0m0.8254   \u001b[0m | \u001b[0m703.8    \u001b[0m | \u001b[0m92.23    \u001b[0m | \u001b[0m0.3464   \u001b[0m | \u001b[0m68.75    \u001b[0m | \u001b[0m6.476    \u001b[0m |\n"
     ]
    },
    {
     "name": "stdout",
     "output_type": "stream",
     "text": [
      "53/53 [==============================] - 0s 1ms/step\n",
      "53/53 [==============================] - 0s 1ms/step\n",
      "53/53 [==============================] - 0s 2ms/step\n",
      "53/53 [==============================] - 0s 1ms/step\n",
      "53/53 [==============================] - 0s 2ms/step\n",
      "| \u001b[0m20       \u001b[0m | \u001b[0m0.887    \u001b[0m | \u001b[0m3.366    \u001b[0m | \u001b[0m817.1    \u001b[0m | \u001b[0m91.69    \u001b[0m | \u001b[0m0.624    \u001b[0m | \u001b[0m23.6     \u001b[0m | \u001b[0m2.624    \u001b[0m |\n",
      "53/53 [==============================] - 0s 2ms/step\n",
      "53/53 [==============================] - 0s 2ms/step\n",
      "53/53 [==============================] - 0s 3ms/step\n",
      "53/53 [==============================] - 0s 2ms/step\n",
      "53/53 [==============================] - 0s 2ms/step\n",
      "| \u001b[0m21       \u001b[0m | \u001b[0m0.461    \u001b[0m | \u001b[0m5.723    \u001b[0m | \u001b[0m567.3    \u001b[0m | \u001b[0m62.58    \u001b[0m | \u001b[0m0.3588   \u001b[0m | \u001b[0m69.39    \u001b[0m | \u001b[0m3.336    \u001b[0m |\n",
      "53/53 [==============================] - 0s 2ms/step\n",
      "53/53 [==============================] - 0s 3ms/step\n",
      "53/53 [==============================] - 0s 2ms/step\n",
      "53/53 [==============================] - 0s 2ms/step\n",
      "53/53 [==============================] - 0s 2ms/step\n",
      "| \u001b[0m22       \u001b[0m | \u001b[0m0.8395   \u001b[0m | \u001b[0m4.091    \u001b[0m | \u001b[0m299.8    \u001b[0m | \u001b[0m53.0     \u001b[0m | \u001b[0m0.2804   \u001b[0m | \u001b[0m41.21    \u001b[0m | \u001b[0m6.821    \u001b[0m |\n",
      "53/53 [==============================] - 0s 2ms/step\n",
      "53/53 [==============================] - 0s 3ms/step\n",
      "53/53 [==============================] - 0s 3ms/step\n",
      "53/53 [==============================] - 0s 3ms/step\n",
      "53/53 [==============================] - 0s 2ms/step\n",
      "| \u001b[0m23       \u001b[0m | \u001b[0m0.1334   \u001b[0m | \u001b[0m1.94     \u001b[0m | \u001b[0m746.3    \u001b[0m | \u001b[0m22.54    \u001b[0m | \u001b[0m0.837    \u001b[0m | \u001b[0m73.15    \u001b[0m | \u001b[0m6.762    \u001b[0m |\n",
      "53/53 [==============================] - 0s 2ms/step\n",
      "53/53 [==============================] - 0s 2ms/step\n",
      "53/53 [==============================] - 0s 3ms/step\n",
      "53/53 [==============================] - 1s 5ms/step\n",
      "53/53 [==============================] - 0s 2ms/step\n",
      "| \u001b[0m24       \u001b[0m | \u001b[0m0.9195   \u001b[0m | \u001b[0m5.326    \u001b[0m | \u001b[0m373.9    \u001b[0m | \u001b[0m77.54    \u001b[0m | \u001b[0m0.04056  \u001b[0m | \u001b[0m47.68    \u001b[0m | \u001b[0m1.969    \u001b[0m |\n",
      "53/53 [==============================] - 0s 2ms/step\n",
      "53/53 [==============================] - 0s 2ms/step\n",
      "53/53 [==============================] - 0s 2ms/step\n",
      "53/53 [==============================] - 0s 2ms/step\n",
      "53/53 [==============================] - 0s 2ms/step\n",
      "| \u001b[0m25       \u001b[0m | \u001b[0m0.4      \u001b[0m | \u001b[0m0.9562   \u001b[0m | \u001b[0m541.1    \u001b[0m | \u001b[0m87.25    \u001b[0m | \u001b[0m0.1193   \u001b[0m | \u001b[0m98.8     \u001b[0m | \u001b[0m1.633    \u001b[0m |\n",
      "53/53 [==============================] - 0s 2ms/step\n",
      "53/53 [==============================] - 0s 2ms/step\n",
      "53/53 [==============================] - 0s 2ms/step\n",
      "53/53 [==============================] - 0s 2ms/step\n",
      "53/53 [==============================] - 0s 2ms/step\n",
      "| \u001b[0m26       \u001b[0m | \u001b[0m0.4318   \u001b[0m | \u001b[0m5.764    \u001b[0m | \u001b[0m854.0    \u001b[0m | \u001b[0m48.51    \u001b[0m | \u001b[0m0.5396   \u001b[0m | \u001b[0m60.91    \u001b[0m | \u001b[0m3.159    \u001b[0m |\n",
      "53/53 [==============================] - 0s 2ms/step\n",
      "53/53 [==============================] - 0s 2ms/step\n",
      "53/53 [==============================] - 0s 2ms/step\n",
      "53/53 [==============================] - 0s 2ms/step\n",
      "53/53 [==============================] - 0s 2ms/step\n",
      "| \u001b[0m27       \u001b[0m | \u001b[0m0.6522   \u001b[0m | \u001b[0m3.889    \u001b[0m | \u001b[0m343.3    \u001b[0m | \u001b[0m38.74    \u001b[0m | \u001b[0m0.6817   \u001b[0m | \u001b[0m71.78    \u001b[0m | \u001b[0m3.48     \u001b[0m |\n",
      "53/53 [==============================] - 0s 2ms/step\n",
      "53/53 [==============================] - 0s 2ms/step\n",
      "53/53 [==============================] - 0s 2ms/step\n",
      "53/53 [==============================] - 0s 2ms/step\n",
      "53/53 [==============================] - 0s 2ms/step\n",
      "| \u001b[0m28       \u001b[0m | \u001b[0m0.0      \u001b[0m | \u001b[0m6.976    \u001b[0m | \u001b[0m590.9    \u001b[0m | \u001b[0m20.0     \u001b[0m | \u001b[0m0.519    \u001b[0m | \u001b[0m43.53    \u001b[0m | \u001b[0m4.323    \u001b[0m |\n",
      "53/53 [==============================] - 0s 2ms/step\n",
      "53/53 [==============================] - 0s 2ms/step\n",
      "53/53 [==============================] - 0s 2ms/step\n",
      "53/53 [==============================] - 0s 2ms/step\n",
      "53/53 [==============================] - 0s 2ms/step\n",
      "| \u001b[0m29       \u001b[0m | \u001b[0m0.0      \u001b[0m | \u001b[0m7.26     \u001b[0m | \u001b[0m584.6    \u001b[0m | \u001b[0m23.01    \u001b[0m | \u001b[0m0.8535   \u001b[0m | \u001b[0m41.24    \u001b[0m | \u001b[0m0.6165   \u001b[0m |\n",
      "=================================================================================================\n"
     ]
    }
   ],
   "source": [
    "from keras.wrappers.scikit_learn import KerasClassifier\n",
    "from sklearn.metrics import fbeta_score\n",
    "\n",
    "# Make scorer accuracy\n",
    "f1_scorer = make_scorer(fbeta_score, beta=1)\n",
    "\n",
    "def hypertuning_func1(neurons, activation, optimizer, learning_rate,  batch_size, epochs ):\n",
    "    \n",
    "    act_list = ['relu', 'sigmoid', 'softplus', 'softsign', 'tanh', 'selu','elu', 'exponential', LeakyReLU,'relu']\n",
    "    \n",
    "    neurons = round(neurons)\n",
    "    activation = act_list[round(activation)]\n",
    "    batch_size = round(batch_size)\n",
    "    epochs = round(epochs)\n",
    "    \n",
    "    opt_list = ['SGD', 'Adam', 'RMSprop', 'Adadelta', 'Adagrad', 'Adamax', 'Nadam', 'Ftrl','SGD']\n",
    "    \n",
    "    opt_dict= {'Adam':Adam(lr=learning_rate), 'SGD':SGD(lr=learning_rate),'RMSprop':RMSprop(lr=learning_rate), 'Adadelta':Adadelta(lr=learning_rate),'Adagrad':Adagrad(lr=learning_rate), 'Adamax':Adamax(lr=learning_rate),'Nadam':Nadam(lr=learning_rate), 'Ftrl':Ftrl(lr=learning_rate)}\n",
    "    \n",
    "    \n",
    "    def temp_model1():\n",
    "        opt = Adam(lr = learning_rate)\n",
    "        model1 = Sequential()\n",
    "        model1.add(Dense(neurons, input_dim=95, activation=activation))\n",
    "        model1.add(Dense(neurons, activation=activation))\n",
    "        model1.add(Dense(neurons, activation=activation))\n",
    "        model1.add(Dense(neurons, activation=activation))\n",
    "        model1.add(Dense(1, activation='sigmoid')) #this is the output layer where we only have 1 neuron (this is always sigmoid)\n",
    "        model1.compile(loss='binary_crossentropy', optimizer=opt, metrics=[get_f1])\n",
    "        return model1\n",
    "    \n",
    "    model1 = KerasClassifier(build_fn=temp_model1, epochs=epochs, batch_size=batch_size,\n",
    "                         verbose=0) #creates a Stratifiedstrat_fold object converting data into folds for cross-validation\n",
    "    \n",
    "    strat_fold = Stratifiedstrat_fold(n_splits=5, shuffle=True, random_state=123)\n",
    "    \n",
    "    score = cross_val_score(model1, X_train_bal1, y_train_bal1, scoring=f1_scorer, cv=strat_fold).mean()\n",
    "    \n",
    "    return score\n",
    "\n",
    "# Set paramaters\n",
    "params_range ={\n",
    "    'neurons': (10, 100),\n",
    "    'activation':(0, 9),\n",
    "    'optimizer':(0,7),\n",
    "    'learning_rate':(0.01, 1),\n",
    "    'batch_size':(200, 1000),\n",
    "    'epochs':(20, 100)\n",
    "}\n",
    "# Run Bayesian Optimization\n",
    "baye_opt1 = BayesianOptimization(hypertuning_func1, params_range, random_state=111)\n",
    "baye_opt1.maximize(init_points=25, n_iter=4)\n"
   ]
  },
  {
   "cell_type": "code",
   "execution_count": 46,
   "id": "dde34c54",
   "metadata": {},
   "outputs": [
    {
     "data": {
      "text/plain": [
       "{'activation': 'selu',\n",
       " 'batch_size': 851.0135336291902,\n",
       " 'epochs': 53.7054301919375,\n",
       " 'learning_rate': 0.037173480215022196,\n",
       " 'neurons': 50.872297884262295,\n",
       " 'optimizer': 0.7372825972056519}"
      ]
     },
     "execution_count": 46,
     "metadata": {},
     "output_type": "execute_result"
    }
   ],
   "source": [
    "tuned_params1 = baye_opt1.max['params']\n",
    "act_list = ['relu', 'sigmoid', 'softplus', 'softsign', 'tanh', 'selu', 'elu', 'exponential', LeakyReLU,'relu']\n",
    "\n",
    "tuned_params1['activation'] = act_list[round(tuned_params1['activation'])]\n",
    "tuned_params1"
   ]
  },
  {
   "cell_type": "markdown",
   "id": "bb928f28",
   "metadata": {},
   "source": [
    "<br id=\"6.2\">\n",
    "<a href=\"#index\" style=\"color:#033a91; font-size: 16px; text-decoration: none; font-weight:bold;\">6.2 Building the model</a>"
   ]
  },
  {
   "cell_type": "code",
   "execution_count": 49,
   "id": "54bf5c72",
   "metadata": {},
   "outputs": [
    {
     "name": "stdout",
     "output_type": "stream",
     "text": [
      "Epoch 1/54\n",
      "10/10 [==============================] - 1s 69ms/step - loss: 2.6260 - get_f1: 0.6008 - val_loss: 1.4456 - val_get_f1: 0.1469\n",
      "Epoch 2/54\n",
      "10/10 [==============================] - 0s 15ms/step - loss: 0.4218 - get_f1: 0.8623 - val_loss: 0.3597 - val_get_f1: 0.2276\n",
      "Epoch 3/54\n",
      "10/10 [==============================] - 0s 16ms/step - loss: 0.2561 - get_f1: 0.9079 - val_loss: 0.2359 - val_get_f1: 0.2400\n",
      "Epoch 4/54\n",
      "10/10 [==============================] - 0s 19ms/step - loss: 0.2122 - get_f1: 0.9272 - val_loss: 0.2239 - val_get_f1: 0.2915\n",
      "Epoch 5/54\n",
      "10/10 [==============================] - 0s 12ms/step - loss: 0.1855 - get_f1: 0.9382 - val_loss: 0.2364 - val_get_f1: 0.3015\n",
      "Epoch 6/54\n",
      "10/10 [==============================] - 0s 12ms/step - loss: 0.1698 - get_f1: 0.9467 - val_loss: 0.2219 - val_get_f1: 0.3386\n",
      "Epoch 7/54\n",
      "10/10 [==============================] - 0s 13ms/step - loss: 0.1564 - get_f1: 0.9500 - val_loss: 0.2033 - val_get_f1: 0.3322\n",
      "Epoch 8/54\n",
      "10/10 [==============================] - 0s 11ms/step - loss: 0.1437 - get_f1: 0.9561 - val_loss: 0.2277 - val_get_f1: 0.3199\n",
      "Epoch 9/54\n",
      "10/10 [==============================] - 0s 15ms/step - loss: 0.1315 - get_f1: 0.9604 - val_loss: 0.2175 - val_get_f1: 0.3225\n",
      "Epoch 10/54\n",
      "10/10 [==============================] - 0s 13ms/step - loss: 0.1149 - get_f1: 0.9669 - val_loss: 0.2043 - val_get_f1: 0.3447\n",
      "Epoch 11/54\n",
      "10/10 [==============================] - 0s 12ms/step - loss: 0.1012 - get_f1: 0.9701 - val_loss: 0.2048 - val_get_f1: 0.3668\n",
      "Epoch 12/54\n",
      "10/10 [==============================] - 0s 13ms/step - loss: 0.1027 - get_f1: 0.9692 - val_loss: 0.1830 - val_get_f1: 0.3311\n",
      "Epoch 13/54\n",
      "10/10 [==============================] - 0s 13ms/step - loss: 0.0916 - get_f1: 0.9738 - val_loss: 0.2773 - val_get_f1: 0.3338\n",
      "Epoch 14/54\n",
      "10/10 [==============================] - 0s 16ms/step - loss: 0.1081 - get_f1: 0.9698 - val_loss: 0.2428 - val_get_f1: 0.3533\n",
      "Epoch 15/54\n",
      "10/10 [==============================] - 0s 16ms/step - loss: 0.0890 - get_f1: 0.9738 - val_loss: 0.2025 - val_get_f1: 0.3235\n",
      "Epoch 16/54\n",
      "10/10 [==============================] - 0s 12ms/step - loss: 0.0730 - get_f1: 0.9794 - val_loss: 0.1857 - val_get_f1: 0.2292\n",
      "Epoch 17/54\n",
      "10/10 [==============================] - 0s 19ms/step - loss: 0.0702 - get_f1: 0.9792 - val_loss: 0.1999 - val_get_f1: 0.2444\n",
      "Epoch 18/54\n",
      "10/10 [==============================] - 0s 12ms/step - loss: 0.0545 - get_f1: 0.9860 - val_loss: 0.2324 - val_get_f1: 0.2345\n",
      "Epoch 19/54\n",
      "10/10 [==============================] - 0s 11ms/step - loss: 0.0496 - get_f1: 0.9872 - val_loss: 0.2460 - val_get_f1: 0.3558\n",
      "Epoch 20/54\n",
      "10/10 [==============================] - 0s 9ms/step - loss: 0.0450 - get_f1: 0.9884 - val_loss: 0.2268 - val_get_f1: 0.3252\n",
      "Epoch 21/54\n",
      "10/10 [==============================] - 0s 14ms/step - loss: 0.0380 - get_f1: 0.9901 - val_loss: 0.2530 - val_get_f1: 0.2277\n",
      "Epoch 22/54\n",
      "10/10 [==============================] - 0s 16ms/step - loss: 0.0333 - get_f1: 0.9921 - val_loss: 0.2538 - val_get_f1: 0.3399\n",
      "Epoch 23/54\n",
      "10/10 [==============================] - 0s 32ms/step - loss: 0.0480 - get_f1: 0.9847 - val_loss: 0.2682 - val_get_f1: 0.2062\n",
      "Epoch 24/54\n",
      "10/10 [==============================] - 0s 25ms/step - loss: 0.0794 - get_f1: 0.9759 - val_loss: 0.2445 - val_get_f1: 0.3406\n",
      "Epoch 25/54\n",
      "10/10 [==============================] - 0s 18ms/step - loss: 0.0671 - get_f1: 0.9816 - val_loss: 0.2451 - val_get_f1: 0.3312\n",
      "Epoch 26/54\n",
      "10/10 [==============================] - 0s 13ms/step - loss: 0.0415 - get_f1: 0.9888 - val_loss: 0.2843 - val_get_f1: 0.2984\n",
      "Epoch 27/54\n",
      "10/10 [==============================] - 0s 16ms/step - loss: 0.0427 - get_f1: 0.9879 - val_loss: 0.2892 - val_get_f1: 0.3060\n",
      "Epoch 28/54\n",
      "10/10 [==============================] - 0s 12ms/step - loss: 0.0351 - get_f1: 0.9893 - val_loss: 0.3263 - val_get_f1: 0.3737\n",
      "Epoch 29/54\n",
      "10/10 [==============================] - 0s 11ms/step - loss: 0.0260 - get_f1: 0.9928 - val_loss: 0.2979 - val_get_f1: 0.3377\n",
      "Epoch 30/54\n",
      "10/10 [==============================] - 0s 12ms/step - loss: 0.0208 - get_f1: 0.9952 - val_loss: 0.3210 - val_get_f1: 0.3248\n",
      "Epoch 31/54\n",
      "10/10 [==============================] - 0s 12ms/step - loss: 0.0161 - get_f1: 0.9960 - val_loss: 0.3562 - val_get_f1: 0.3111\n",
      "Epoch 32/54\n",
      "10/10 [==============================] - 0s 11ms/step - loss: 0.0170 - get_f1: 0.9959 - val_loss: 0.3624 - val_get_f1: 0.3405\n",
      "Epoch 33/54\n",
      "10/10 [==============================] - 0s 15ms/step - loss: 0.0121 - get_f1: 0.9972 - val_loss: 0.3566 - val_get_f1: 0.3322\n",
      "Epoch 34/54\n",
      "10/10 [==============================] - 0s 13ms/step - loss: 0.0116 - get_f1: 0.9977 - val_loss: 0.3774 - val_get_f1: 0.3428\n",
      "Epoch 35/54\n",
      "10/10 [==============================] - 0s 17ms/step - loss: 0.0101 - get_f1: 0.9978 - val_loss: 0.3926 - val_get_f1: 0.3265\n",
      "Epoch 36/54\n",
      "10/10 [==============================] - 0s 16ms/step - loss: 0.0072 - get_f1: 0.9982 - val_loss: 0.4080 - val_get_f1: 0.3400\n",
      "Epoch 37/54\n",
      "10/10 [==============================] - 0s 13ms/step - loss: 0.0067 - get_f1: 0.9989 - val_loss: 0.4152 - val_get_f1: 0.3570\n",
      "Epoch 38/54\n",
      "10/10 [==============================] - 0s 11ms/step - loss: 0.0067 - get_f1: 0.9987 - val_loss: 0.4230 - val_get_f1: 0.3388\n",
      "Epoch 39/54\n",
      "10/10 [==============================] - 0s 9ms/step - loss: 0.0069 - get_f1: 0.9982 - val_loss: 0.4346 - val_get_f1: 0.3627\n",
      "Epoch 40/54\n",
      "10/10 [==============================] - 0s 11ms/step - loss: 0.0062 - get_f1: 0.9988 - val_loss: 0.4329 - val_get_f1: 0.3333\n",
      "Epoch 41/54\n",
      "10/10 [==============================] - 0s 11ms/step - loss: 0.0063 - get_f1: 0.9987 - val_loss: 0.4654 - val_get_f1: 0.3301\n",
      "Epoch 42/54\n",
      "10/10 [==============================] - 0s 9ms/step - loss: 0.0058 - get_f1: 0.9986 - val_loss: 0.4303 - val_get_f1: 0.3631\n",
      "Epoch 43/54\n",
      "10/10 [==============================] - 0s 17ms/step - loss: 0.0050 - get_f1: 0.9991 - val_loss: 0.4302 - val_get_f1: 0.3493\n",
      "Epoch 44/54\n",
      "10/10 [==============================] - 0s 13ms/step - loss: 0.0050 - get_f1: 0.9990 - val_loss: 0.4659 - val_get_f1: 0.3375\n",
      "Epoch 45/54\n",
      "10/10 [==============================] - 0s 18ms/step - loss: 0.0184 - get_f1: 0.9964 - val_loss: 0.4554 - val_get_f1: 0.3615\n",
      "Epoch 46/54\n",
      "10/10 [==============================] - 0s 14ms/step - loss: 0.0287 - get_f1: 0.9933 - val_loss: 0.4549 - val_get_f1: 0.3193\n",
      "Epoch 47/54\n",
      "10/10 [==============================] - 0s 17ms/step - loss: 0.0340 - get_f1: 0.9887 - val_loss: 0.4951 - val_get_f1: 0.3088\n",
      "Epoch 48/54\n",
      "10/10 [==============================] - 0s 13ms/step - loss: 0.1593 - get_f1: 0.9643 - val_loss: 0.6447 - val_get_f1: 0.3087\n",
      "Epoch 49/54\n",
      "10/10 [==============================] - 0s 13ms/step - loss: 0.2682 - get_f1: 0.9467 - val_loss: 0.5525 - val_get_f1: 0.2638\n",
      "Epoch 50/54\n",
      "10/10 [==============================] - 0s 11ms/step - loss: 0.1571 - get_f1: 0.9581 - val_loss: 0.4218 - val_get_f1: 0.2544\n",
      "Epoch 51/54\n",
      "10/10 [==============================] - 0s 13ms/step - loss: 0.0835 - get_f1: 0.9739 - val_loss: 0.3361 - val_get_f1: 0.3206\n",
      "Epoch 52/54\n",
      "10/10 [==============================] - 0s 11ms/step - loss: 0.0551 - get_f1: 0.9833 - val_loss: 0.4169 - val_get_f1: 0.2489\n",
      "Epoch 53/54\n",
      "10/10 [==============================] - 0s 18ms/step - loss: 0.0485 - get_f1: 0.9858 - val_loss: 0.3825 - val_get_f1: 0.2372\n",
      "Epoch 54/54\n",
      "10/10 [==============================] - 0s 36ms/step - loss: 0.0327 - get_f1: 0.9912 - val_loss: 0.4065 - val_get_f1: 0.3052\n"
     ]
    }
   ],
   "source": [
    "nn = Sequential()\n",
    "nn.add(Dense(round(tuned_params1['neurons']), input_dim=95, activation=tuned_params1['activation']))\n",
    "nn.add(Dense(round(tuned_params1['neurons']), activation=tuned_params1['activation']))\n",
    "nn.add(Dense(round(tuned_params1['neurons']), activation=tuned_params1['activation']))\n",
    "\n",
    "nn.add(Dense(1, activation='sigmoid'))\n",
    "nn.compile(loss='binary_crossentropy', optimizer=Adam(lr = tuned_params1['learning_rate']), metrics=[get_f1])\n",
    "\n",
    "history = nn.fit(X_train_bal1, y_train_bal1,batch_size=round(tuned_params1['batch_size']), \n",
    "                        epochs=round(tuned_params1['epochs']), validation_data=(X_test,y_test))\n",
    "       "
   ]
  },
  {
   "cell_type": "code",
   "execution_count": 50,
   "id": "e5e6790c",
   "metadata": {},
   "outputs": [
    {
     "name": "stdout",
     "output_type": "stream",
     "text": [
      "59/59 [==============================] - 0s 2ms/step\n"
     ]
    },
    {
     "data": {
      "image/png": "[encoded data removed]",
      "text/plain": [
       "<Figure size 504x504 with 2 Axes>"
      ]
     },
     "metadata": {
      "needs_background": "light"
     },
     "output_type": "display_data"
    },
    {
     "name": "stdout",
     "output_type": "stream",
     "text": [
      "\n",
      "\n",
      "Classification Report:\n",
      "              precision    recall  f1-score   support\n",
      "\n",
      "           0       0.98      0.97      0.98      1824\n",
      "           1       0.29      0.40      0.34        57\n",
      "\n",
      "    accuracy                           0.95      1881\n",
      "   macro avg       0.64      0.69      0.66      1881\n",
      "weighted avg       0.96      0.95      0.96      1881\n",
      "\n"
     ]
    }
   ],
   "source": [
    "def predict(model,x):\n",
    "    pred  = model.predict(x)\n",
    "    pred[pred >= 0.5] = 1\n",
    "    pred[pred < 0.5] = 0\n",
    "    return pred\n",
    "\n",
    "def predict_graph(y_true,y_pred,title):\n",
    "    cm = confusion_matrix(y_true,y_pred)\n",
    "    plt.figure(figsize=(7,7))\n",
    "    sns.heatmap(cm,annot=True,fmt='g',cmap=\"YlGnBu\",\n",
    "                xticklabels=['No Bankruptcy','Bankruptcy'],yticklabels=['No Bankruptcy','Bankruptcy'])\n",
    "    plt.title(title)\n",
    "    plt.show()\n",
    "    \n",
    "    print(\"\\n\")\n",
    "    print(\"Classification Report:\")\n",
    "    print(classification_report(y_true,y_pred))\n",
    "\n",
    "\n",
    "y_test_pred = predict(nn,X_test)\n",
    "predict_graph(y_test,y_test_pred,'Test Data Predictions')\n"
   ]
  },
  {
   "cell_type": "markdown",
   "id": "e15acae5",
   "metadata": {},
   "source": [
    "<br id=\"7\">\n",
    "<a href=\"#index\" style=\"color:#033a91; font-size: 22px; text-decoration: none; font-weight:bold;\"> 7. Model 2: 6-layer-ANN-SMOTE </a>\n",
    "<hr style=\"height:1px;border-width:0;color:gray;background-color:gray\">"
   ]
  },
  {
   "cell_type": "markdown",
   "id": "6be0b55e",
   "metadata": {},
   "source": [
    "<br id=\"7.1\">\n",
    "<a href=\"#index\" style=\"color:#033a91; font-size: 16px; text-decoration: none; font-weight:bold;\">7.1 Tuning the hyperparameters</a>\n"
   ]
  },
  {
   "cell_type": "code",
   "execution_count": 26,
   "id": "1f533975",
   "metadata": {
    "scrolled": true
   },
   "outputs": [
    {
     "name": "stdout",
     "output_type": "stream",
     "text": [
      "|   iter    |  target   | activa... | batch_... |  dropout  | dropou... |  epochs   |  layers1  |  layers2  | learni... |  neurons  | normal... | optimizer |\n",
      "-------------------------------------------------------------------------------------------------------------------------------------------------------------\n",
      "53/53 [==============================] - 0s 3ms/step\n",
      "53/53 [==============================] - 0s 2ms/step\n",
      "53/53 [==============================] - 0s 2ms/step\n",
      "53/53 [==============================] - 0s 3ms/step\n",
      "53/53 [==============================] - 0s 3ms/step\n",
      "| \u001b[0m1        \u001b[0m | \u001b[0m0.2666   \u001b[0m | \u001b[0m5.51     \u001b[0m | \u001b[0m335.3    \u001b[0m | \u001b[0m0.4361   \u001b[0m | \u001b[0m0.2308   \u001b[0m | \u001b[0m43.63    \u001b[0m | \u001b[0m1.298    \u001b[0m | \u001b[0m1.045    \u001b[0m | \u001b[0m0.426    \u001b[0m | \u001b[0m31.48    \u001b[0m | \u001b[0m0.3377   \u001b[0m | \u001b[0m6.935    \u001b[0m |\n",
      "53/53 [==============================] - 0s 2ms/step\n",
      "53/53 [==============================] - 0s 3ms/step\n",
      "53/53 [==============================] - 0s 3ms/step\n",
      "53/53 [==============================] - 0s 3ms/step\n",
      "53/53 [==============================] - 0s 3ms/step\n",
      "| \u001b[95m2        \u001b[0m | \u001b[95m0.4015   \u001b[0m | \u001b[95m2.14     \u001b[0m | \u001b[95m265.0    \u001b[0m | \u001b[95m0.6696   \u001b[0m | \u001b[95m0.1864   \u001b[0m | \u001b[95m41.94    \u001b[0m | \u001b[95m1.932    \u001b[0m | \u001b[95m1.237    \u001b[0m | \u001b[95m0.08322  \u001b[0m | \u001b[95m91.07    \u001b[0m | \u001b[95m0.794    \u001b[0m | \u001b[95m5.884    \u001b[0m |\n",
      "53/53 [==============================] - 0s 2ms/step\n",
      "53/53 [==============================] - 0s 2ms/step\n",
      "53/53 [==============================] - 0s 2ms/step\n",
      "53/53 [==============================] - 0s 3ms/step\n",
      "53/53 [==============================] - 0s 2ms/step\n",
      "| \u001b[0m3        \u001b[0m | \u001b[0m0.0      \u001b[0m | \u001b[0m7.337    \u001b[0m | \u001b[0m992.8    \u001b[0m | \u001b[0m0.5773   \u001b[0m | \u001b[0m0.2441   \u001b[0m | \u001b[0m53.71    \u001b[0m | \u001b[0m1.055    \u001b[0m | \u001b[0m1.908    \u001b[0m | \u001b[0m0.1143   \u001b[0m | \u001b[0m83.55    \u001b[0m | \u001b[0m0.6977   \u001b[0m | \u001b[0m3.957    \u001b[0m |\n",
      "53/53 [==============================] - 0s 2ms/step\n",
      "53/53 [==============================] - 0s 2ms/step\n",
      "53/53 [==============================] - 0s 2ms/step\n",
      "53/53 [==============================] - 0s 2ms/step\n",
      "53/53 [==============================] - 0s 2ms/step\n",
      "| \u001b[0m4        \u001b[0m | \u001b[0m0.2666   \u001b[0m | \u001b[0m2.468    \u001b[0m | \u001b[0m998.8    \u001b[0m | \u001b[0m0.138    \u001b[0m | \u001b[0m0.1846   \u001b[0m | \u001b[0m58.8     \u001b[0m | \u001b[0m1.81     \u001b[0m | \u001b[0m2.456    \u001b[0m | \u001b[0m0.3296   \u001b[0m | \u001b[0m46.05    \u001b[0m | \u001b[0m0.319    \u001b[0m | \u001b[0m6.631    \u001b[0m |\n",
      "53/53 [==============================] - 0s 2ms/step\n",
      "53/53 [==============================] - 0s 2ms/step\n",
      "53/53 [==============================] - 0s 2ms/step\n",
      "53/53 [==============================] - 0s 2ms/step\n",
      "53/53 [==============================] - 0s 2ms/step\n",
      "| \u001b[95m5        \u001b[0m | \u001b[95m0.9702   \u001b[0m | \u001b[95m8.268    \u001b[0m | \u001b[95m851.1    \u001b[0m | \u001b[95m0.03408  \u001b[0m | \u001b[95m0.283    \u001b[0m | \u001b[95m96.04    \u001b[0m | \u001b[95m2.613    \u001b[0m | \u001b[95m1.963    \u001b[0m | \u001b[95m0.9671   \u001b[0m | \u001b[95m47.53    \u001b[0m | \u001b[95m0.3188   \u001b[0m | \u001b[95m0.1151   \u001b[0m |\n",
      "53/53 [==============================] - 0s 2ms/step\n",
      "53/53 [==============================] - 0s 2ms/step\n",
      "53/53 [==============================] - 0s 2ms/step\n",
      "53/53 [==============================] - 0s 2ms/step\n",
      "53/53 [==============================] - 0s 2ms/step\n",
      "| \u001b[0m6        \u001b[0m | \u001b[0m0.9461   \u001b[0m | \u001b[0m0.3436   \u001b[0m | \u001b[0m242.5    \u001b[0m | \u001b[0m0.128    \u001b[0m | \u001b[0m0.01001  \u001b[0m | \u001b[0m38.11    \u001b[0m | \u001b[0m2.088    \u001b[0m | \u001b[0m1.357    \u001b[0m | \u001b[0m0.1876   \u001b[0m | \u001b[0m23.47    \u001b[0m | \u001b[0m0.683    \u001b[0m | \u001b[0m3.283    \u001b[0m |\n",
      "53/53 [==============================] - 0s 2ms/step\n",
      "53/53 [==============================] - 0s 2ms/step\n",
      "53/53 [==============================] - 0s 2ms/step\n",
      "53/53 [==============================] - 0s 2ms/step\n",
      "53/53 [==============================] - 0s 2ms/step\n",
      "| \u001b[0m7        \u001b[0m | \u001b[0m0.0      \u001b[0m | \u001b[0m6.914    \u001b[0m | \u001b[0m735.1    \u001b[0m | \u001b[0m0.4413   \u001b[0m | \u001b[0m0.1786   \u001b[0m | \u001b[0m56.93    \u001b[0m | \u001b[0m2.927    \u001b[0m | \u001b[0m1.296    \u001b[0m | \u001b[0m0.9077   \u001b[0m | \u001b[0m54.81    \u001b[0m | \u001b[0m0.5925   \u001b[0m | \u001b[0m4.793    \u001b[0m |\n",
      "53/53 [==============================] - 0s 2ms/step\n",
      "53/53 [==============================] - 0s 2ms/step\n",
      "53/53 [==============================] - 0s 3ms/step\n",
      "53/53 [==============================] - 0s 2ms/step\n",
      "53/53 [==============================] - 0s 2ms/step\n",
      "| \u001b[95m8        \u001b[0m | \u001b[95m0.9793   \u001b[0m | \u001b[95m1.597    \u001b[0m | \u001b[95m891.7    \u001b[0m | \u001b[95m0.4821   \u001b[0m | \u001b[95m0.0208   \u001b[0m | \u001b[95m49.18    \u001b[0m | \u001b[95m1.723    \u001b[0m | \u001b[95m1.944    \u001b[0m | \u001b[95m0.1877   \u001b[0m | \u001b[95m25.78    \u001b[0m | \u001b[95m0.9491   \u001b[0m | \u001b[95m4.59     \u001b[0m |\n",
      "53/53 [==============================] - 0s 3ms/step\n",
      "53/53 [==============================] - 0s 2ms/step\n",
      "53/53 [==============================] - 0s 2ms/step\n",
      "53/53 [==============================] - 0s 2ms/step\n",
      "53/53 [==============================] - 0s 3ms/step\n",
      "| \u001b[0m9        \u001b[0m | \u001b[0m0.1334   \u001b[0m | \u001b[0m1.215    \u001b[0m | \u001b[0m942.2    \u001b[0m | \u001b[0m0.8418   \u001b[0m | \u001b[0m0.01583  \u001b[0m | \u001b[0m36.29    \u001b[0m | \u001b[0m2.745    \u001b[0m | \u001b[0m2.348    \u001b[0m | \u001b[0m0.3043   \u001b[0m | \u001b[0m76.1     \u001b[0m | \u001b[0m0.6183   \u001b[0m | \u001b[0m1.473    \u001b[0m |\n",
      "53/53 [==============================] - 0s 3ms/step\n",
      "53/53 [==============================] - 0s 2ms/step\n",
      "53/53 [==============================] - 0s 2ms/step\n",
      "53/53 [==============================] - 0s 3ms/step\n",
      "53/53 [==============================] - 0s 2ms/step\n",
      "| \u001b[0m10       \u001b[0m | \u001b[0m0.0      \u001b[0m | \u001b[0m7.219    \u001b[0m | \u001b[0m247.3    \u001b[0m | \u001b[0m0.3082   \u001b[0m | \u001b[0m0.06221  \u001b[0m | \u001b[0m97.78    \u001b[0m | \u001b[0m2.819    \u001b[0m | \u001b[0m2.353    \u001b[0m | \u001b[0m0.124    \u001b[0m | \u001b[0m96.22    \u001b[0m | \u001b[0m0.09171  \u001b[0m | \u001b[0m4.409    \u001b[0m |\n",
      "53/53 [==============================] - 0s 4ms/step\n",
      "53/53 [==============================] - 0s 4ms/step\n",
      "53/53 [==============================] - 0s 4ms/step\n",
      "53/53 [==============================] - 0s 4ms/step\n",
      "53/53 [==============================] - 0s 3ms/step\n",
      "| \u001b[0m11       \u001b[0m | \u001b[0m0.9666   \u001b[0m | \u001b[0m8.126    \u001b[0m | \u001b[0m471.8    \u001b[0m | \u001b[0m0.6528   \u001b[0m | \u001b[0m0.2775   \u001b[0m | \u001b[0m49.92    \u001b[0m | \u001b[0m2.543    \u001b[0m | \u001b[0m2.792    \u001b[0m | \u001b[0m0.624    \u001b[0m | \u001b[0m23.6     \u001b[0m | \u001b[0m0.3749   \u001b[0m | \u001b[0m4.451    \u001b[0m |\n",
      "53/53 [==============================] - 0s 2ms/step\n",
      "53/53 [==============================] - 0s 3ms/step\n",
      "53/53 [==============================] - 0s 2ms/step\n",
      "53/53 [==============================] - 0s 3ms/step\n",
      "53/53 [==============================] - 0s 2ms/step\n",
      "| \u001b[0m12       \u001b[0m | \u001b[0m0.2666   \u001b[0m | \u001b[0m4.132    \u001b[0m | \u001b[0m625.8    \u001b[0m | \u001b[0m0.3523   \u001b[0m | \u001b[0m0.198    \u001b[0m | \u001b[0m58.12    \u001b[0m | \u001b[0m1.909    \u001b[0m | \u001b[0m1.25     \u001b[0m | \u001b[0m0.4183   \u001b[0m | \u001b[0m34.58    \u001b[0m | \u001b[0m0.3467   \u001b[0m | \u001b[0m6.821    \u001b[0m |\n",
      "53/53 [==============================] - 1s 5ms/step\n",
      "53/53 [==============================] - 0s 2ms/step\n",
      "53/53 [==============================] - 0s 3ms/step\n",
      "53/53 [==============================] - 0s 4ms/step\n",
      "53/53 [==============================] - 0s 3ms/step\n",
      "| \u001b[0m13       \u001b[0m | \u001b[0m0.9008   \u001b[0m | \u001b[0m1.94     \u001b[0m | \u001b[0m746.3    \u001b[0m | \u001b[0m0.03181  \u001b[0m | \u001b[0m0.2506   \u001b[0m | \u001b[0m76.13    \u001b[0m | \u001b[0m2.932    \u001b[0m | \u001b[0m2.184    \u001b[0m | \u001b[0m0.2252   \u001b[0m | \u001b[0m74.73    \u001b[0m | \u001b[0m0.03087  \u001b[0m | \u001b[0m2.931    \u001b[0m |\n",
      "53/53 [==============================] - 0s 2ms/step\n",
      "53/53 [==============================] - 0s 3ms/step\n",
      "53/53 [==============================] - 0s 2ms/step\n",
      "53/53 [==============================] - 0s 2ms/step\n",
      "53/53 [==============================] - 0s 2ms/step\n",
      "| \u001b[0m14       \u001b[0m | \u001b[0m0.9113   \u001b[0m | \u001b[0m2.531    \u001b[0m | \u001b[0m285.0    \u001b[0m | \u001b[0m0.4263   \u001b[0m | \u001b[0m0.2522   \u001b[0m | \u001b[0m28.83    \u001b[0m | \u001b[0m2.973    \u001b[0m | \u001b[0m1.467    \u001b[0m | \u001b[0m0.7242   \u001b[0m | \u001b[0m69.48    \u001b[0m | \u001b[0m0.07776  \u001b[0m | \u001b[0m4.881    \u001b[0m |\n",
      "53/53 [==============================] - 0s 2ms/step\n",
      "53/53 [==============================] - 0s 3ms/step\n",
      "53/53 [==============================] - 0s 2ms/step\n",
      "53/53 [==============================] - 0s 2ms/step\n",
      "53/53 [==============================] - 0s 3ms/step\n",
      "| \u001b[0m15       \u001b[0m | \u001b[0m0.9648   \u001b[0m | \u001b[0m2.388    \u001b[0m | \u001b[0m921.5    \u001b[0m | \u001b[0m0.8183   \u001b[0m | \u001b[0m0.1198   \u001b[0m | \u001b[0m85.62    \u001b[0m | \u001b[0m1.396    \u001b[0m | \u001b[0m2.045    \u001b[0m | \u001b[0m0.4184   \u001b[0m | \u001b[0m93.33    \u001b[0m | \u001b[0m0.8254   \u001b[0m | \u001b[0m3.507    \u001b[0m |\n"
     ]
    },
    {
     "name": "stdout",
     "output_type": "stream",
     "text": [
      "53/53 [==============================] - 0s 2ms/step\n",
      "53/53 [==============================] - 0s 3ms/step\n",
      "53/53 [==============================] - 0s 2ms/step\n",
      "53/53 [==============================] - 0s 2ms/step\n",
      "53/53 [==============================] - 0s 2ms/step\n",
      "| \u001b[0m16       \u001b[0m | \u001b[0m0.8897   \u001b[0m | \u001b[0m1.051    \u001b[0m | \u001b[0m209.3    \u001b[0m | \u001b[0m0.9132   \u001b[0m | \u001b[0m0.1537   \u001b[0m | \u001b[0m87.45    \u001b[0m | \u001b[0m1.19     \u001b[0m | \u001b[0m2.607    \u001b[0m | \u001b[0m0.07161  \u001b[0m | \u001b[0m67.19    \u001b[0m | \u001b[0m0.9688   \u001b[0m | \u001b[0m2.782    \u001b[0m |\n",
      "53/53 [==============================] - 0s 2ms/step\n",
      "53/53 [==============================] - 0s 2ms/step\n",
      "53/53 [==============================] - 0s 2ms/step\n",
      "53/53 [==============================] - 0s 3ms/step\n",
      "53/53 [==============================] - 0s 2ms/step\n",
      "| \u001b[0m17       \u001b[0m | \u001b[0m0.4001   \u001b[0m | \u001b[0m5.936    \u001b[0m | \u001b[0m371.9    \u001b[0m | \u001b[0m0.8899   \u001b[0m | \u001b[0m0.296    \u001b[0m | \u001b[0m79.09    \u001b[0m | \u001b[0m2.283    \u001b[0m | \u001b[0m1.504    \u001b[0m | \u001b[0m0.4811   \u001b[0m | \u001b[0m34.13    \u001b[0m | \u001b[0m0.8683   \u001b[0m | \u001b[0m1.868    \u001b[0m |\n",
      "53/53 [==============================] - 0s 2ms/step\n",
      "53/53 [==============================] - 0s 2ms/step\n",
      "53/53 [==============================] - 0s 2ms/step\n",
      "53/53 [==============================] - 0s 2ms/step\n",
      "53/53 [==============================] - 0s 2ms/step\n",
      "| \u001b[0m18       \u001b[0m | \u001b[0m0.4462   \u001b[0m | \u001b[0m8.757    \u001b[0m | \u001b[0m370.8    \u001b[0m | \u001b[0m0.2978   \u001b[0m | \u001b[0m0.221    \u001b[0m | \u001b[0m21.03    \u001b[0m | \u001b[0m1.06     \u001b[0m | \u001b[0m2.468    \u001b[0m | \u001b[0m0.5033   \u001b[0m | \u001b[0m29.63    \u001b[0m | \u001b[0m0.00893  \u001b[0m | \u001b[0m5.955    \u001b[0m |\n",
      "53/53 [==============================] - 1s 6ms/step\n",
      "53/53 [==============================] - 0s 2ms/step\n",
      "53/53 [==============================] - 0s 2ms/step\n",
      "53/53 [==============================] - 0s 3ms/step\n",
      "53/53 [==============================] - 0s 4ms/step\n",
      "| \u001b[0m19       \u001b[0m | \u001b[0m0.9772   \u001b[0m | \u001b[0m4.828    \u001b[0m | \u001b[0m778.8    \u001b[0m | \u001b[0m0.6616   \u001b[0m | \u001b[0m0.2516   \u001b[0m | \u001b[0m51.06    \u001b[0m | \u001b[0m1.852    \u001b[0m | \u001b[0m2.656    \u001b[0m | \u001b[0m0.4743   \u001b[0m | \u001b[0m83.8     \u001b[0m | \u001b[0m0.01418  \u001b[0m | \u001b[0m2.777    \u001b[0m |\n",
      "53/53 [==============================] - 0s 3ms/step\n",
      "53/53 [==============================] - 0s 2ms/step\n",
      "53/53 [==============================] - 0s 2ms/step\n",
      "53/53 [==============================] - 0s 2ms/step\n",
      "53/53 [==============================] - 0s 2ms/step\n",
      "| \u001b[0m20       \u001b[0m | \u001b[0m0.5334   \u001b[0m | \u001b[0m1.155    \u001b[0m | \u001b[0m294.5    \u001b[0m | \u001b[0m0.206    \u001b[0m | \u001b[0m0.2243   \u001b[0m | \u001b[0m94.41    \u001b[0m | \u001b[0m1.761    \u001b[0m | \u001b[0m1.921    \u001b[0m | \u001b[0m0.8746   \u001b[0m | \u001b[0m83.31    \u001b[0m | \u001b[0m0.02497  \u001b[0m | \u001b[0m6.111    \u001b[0m |\n",
      "53/53 [==============================] - 0s 1ms/step\n",
      "53/53 [==============================] - 0s 1ms/step\n",
      "53/53 [==============================] - 0s 2ms/step\n",
      "53/53 [==============================] - 0s 2ms/step\n",
      "53/53 [==============================] - 0s 2ms/step\n",
      "| \u001b[0m21       \u001b[0m | \u001b[0m0.6109   \u001b[0m | \u001b[0m5.441    \u001b[0m | \u001b[0m613.2    \u001b[0m | \u001b[0m0.5893   \u001b[0m | \u001b[0m0.2399   \u001b[0m | \u001b[0m33.86    \u001b[0m | \u001b[0m1.374    \u001b[0m | \u001b[0m1.516    \u001b[0m | \u001b[0m0.06056  \u001b[0m | \u001b[0m59.74    \u001b[0m | \u001b[0m0.3518   \u001b[0m | \u001b[0m6.419    \u001b[0m |\n",
      "53/53 [==============================] - 0s 2ms/step\n",
      "53/53 [==============================] - 0s 1ms/step\n",
      "53/53 [==============================] - 0s 2ms/step\n",
      "53/53 [==============================] - 0s 1ms/step\n",
      "53/53 [==============================] - 0s 2ms/step\n",
      "| \u001b[0m22       \u001b[0m | \u001b[0m0.974    \u001b[0m | \u001b[0m4.289    \u001b[0m | \u001b[0m283.6    \u001b[0m | \u001b[0m0.1525   \u001b[0m | \u001b[0m0.08206  \u001b[0m | \u001b[0m82.52    \u001b[0m | \u001b[0m1.786    \u001b[0m | \u001b[0m2.598    \u001b[0m | \u001b[0m0.4387   \u001b[0m | \u001b[0m17.34    \u001b[0m | \u001b[0m0.01064  \u001b[0m | \u001b[0m3.016    \u001b[0m |\n",
      "53/53 [==============================] - 1s 8ms/step\n",
      "53/53 [==============================] - 0s 2ms/step\n",
      "53/53 [==============================] - 0s 2ms/step\n",
      "53/53 [==============================] - 0s 2ms/step\n",
      "53/53 [==============================] - 0s 2ms/step\n",
      "| \u001b[0m23       \u001b[0m | \u001b[0m0.9573   \u001b[0m | \u001b[0m5.966    \u001b[0m | \u001b[0m612.2    \u001b[0m | \u001b[0m0.5801   \u001b[0m | \u001b[0m0.1479   \u001b[0m | \u001b[0m79.24    \u001b[0m | \u001b[0m2.579    \u001b[0m | \u001b[0m2.562    \u001b[0m | \u001b[0m0.1363   \u001b[0m | \u001b[0m94.61    \u001b[0m | \u001b[0m0.8777   \u001b[0m | \u001b[0m4.897    \u001b[0m |\n",
      "53/53 [==============================] - 0s 2ms/step\n",
      "53/53 [==============================] - 0s 2ms/step\n",
      "53/53 [==============================] - 0s 2ms/step\n",
      "53/53 [==============================] - 0s 2ms/step\n",
      "53/53 [==============================] - 0s 3ms/step\n",
      "| \u001b[0m24       \u001b[0m | \u001b[0m0.8973   \u001b[0m | \u001b[0m8.432    \u001b[0m | \u001b[0m739.0    \u001b[0m | \u001b[0m0.5944   \u001b[0m | \u001b[0m0.1035   \u001b[0m | \u001b[0m26.69    \u001b[0m | \u001b[0m2.159    \u001b[0m | \u001b[0m1.035    \u001b[0m | \u001b[0m0.5569   \u001b[0m | \u001b[0m66.93    \u001b[0m | \u001b[0m0.6784   \u001b[0m | \u001b[0m1.194    \u001b[0m |\n",
      "53/53 [==============================] - 0s 2ms/step\n",
      "53/53 [==============================] - 0s 3ms/step\n",
      "53/53 [==============================] - 0s 3ms/step\n",
      "53/53 [==============================] - 0s 2ms/step\n",
      "53/53 [==============================] - 0s 2ms/step\n",
      "| \u001b[0m25       \u001b[0m | \u001b[0m0.8295   \u001b[0m | \u001b[0m5.194    \u001b[0m | \u001b[0m364.8    \u001b[0m | \u001b[0m0.2515   \u001b[0m | \u001b[0m0.2908   \u001b[0m | \u001b[0m91.73    \u001b[0m | \u001b[0m1.246    \u001b[0m | \u001b[0m2.762    \u001b[0m | \u001b[0m0.9485   \u001b[0m | \u001b[0m51.39    \u001b[0m | \u001b[0m0.413    \u001b[0m | \u001b[0m4.04     \u001b[0m |\n",
      "53/53 [==============================] - 0s 3ms/step\n",
      "53/53 [==============================] - 1s 4ms/step\n",
      "53/53 [==============================] - 0s 3ms/step\n",
      "53/53 [==============================] - 0s 3ms/step\n",
      "53/53 [==============================] - 0s 2ms/step\n",
      "| \u001b[0m26       \u001b[0m | \u001b[0m0.6667   \u001b[0m | \u001b[0m0.7403   \u001b[0m | \u001b[0m919.9    \u001b[0m | \u001b[0m0.4112   \u001b[0m | \u001b[0m0.1232   \u001b[0m | \u001b[0m86.39    \u001b[0m | \u001b[0m2.893    \u001b[0m | \u001b[0m1.621    \u001b[0m | \u001b[0m0.752    \u001b[0m | \u001b[0m94.67    \u001b[0m | \u001b[0m0.3004   \u001b[0m | \u001b[0m5.003    \u001b[0m |\n",
      "53/53 [==============================] - 0s 2ms/step\n",
      "53/53 [==============================] - 0s 3ms/step\n",
      "53/53 [==============================] - 0s 2ms/step\n",
      "53/53 [==============================] - 0s 2ms/step\n",
      "53/53 [==============================] - 0s 2ms/step\n",
      "| \u001b[0m27       \u001b[0m | \u001b[0m0.5524   \u001b[0m | \u001b[0m4.506    \u001b[0m | \u001b[0m925.1    \u001b[0m | \u001b[0m0.4336   \u001b[0m | \u001b[0m0.05045  \u001b[0m | \u001b[0m83.14    \u001b[0m | \u001b[0m1.676    \u001b[0m | \u001b[0m1.772    \u001b[0m | \u001b[0m0.4987   \u001b[0m | \u001b[0m90.62    \u001b[0m | \u001b[0m0.4609   \u001b[0m | \u001b[0m1.909    \u001b[0m |\n",
      "53/53 [==============================] - 0s 2ms/step\n",
      "53/53 [==============================] - 0s 4ms/step\n",
      "53/53 [==============================] - 0s 2ms/step\n",
      "53/53 [==============================] - 0s 2ms/step\n",
      "53/53 [==============================] - 0s 2ms/step\n",
      "| \u001b[0m28       \u001b[0m | \u001b[0m0.5092   \u001b[0m | \u001b[0m4.932    \u001b[0m | \u001b[0m781.1    \u001b[0m | \u001b[0m0.3353   \u001b[0m | \u001b[0m0.2638   \u001b[0m | \u001b[0m50.25    \u001b[0m | \u001b[0m1.267    \u001b[0m | \u001b[0m1.248    \u001b[0m | \u001b[0m0.1769   \u001b[0m | \u001b[0m81.64    \u001b[0m | \u001b[0m0.2307   \u001b[0m | \u001b[0m2.394    \u001b[0m |\n",
      "53/53 [==============================] - 0s 2ms/step\n",
      "53/53 [==============================] - 0s 3ms/step\n",
      "53/53 [==============================] - 0s 3ms/step\n",
      "53/53 [==============================] - 0s 2ms/step\n",
      "53/53 [==============================] - 0s 2ms/step\n",
      "| \u001b[0m29       \u001b[0m | \u001b[0m0.0      \u001b[0m | \u001b[0m7.191    \u001b[0m | \u001b[0m966.2    \u001b[0m | \u001b[0m0.04053  \u001b[0m | \u001b[0m0.2721   \u001b[0m | \u001b[0m78.01    \u001b[0m | \u001b[0m1.407    \u001b[0m | \u001b[0m2.463    \u001b[0m | \u001b[0m0.2568   \u001b[0m | \u001b[0m43.04    \u001b[0m | \u001b[0m0.2389   \u001b[0m | \u001b[0m4.9      \u001b[0m |\n",
      "=============================================================================================================================================================\n"
     ]
    }
   ],
   "source": [
    "from keras.wrappers.scikit_learn import KerasClassifier\n",
    "from sklearn.metrics import fbeta_score\n",
    "\n",
    "f1_scorer = make_scorer(fbeta_score, beta=1)\n",
    "\n",
    "def hypertuning_func2(neurons, activation, optimizer, learning_rate, batch_size, epochs,\n",
    "              layers1, layers2, normalization, dropout, dropout_rate):\n",
    "    \n",
    "    act_list = ['relu', 'sigmoid', 'softplus', 'softsign', 'tanh', 'selu', 'elu', 'exponential', LeakyReLU,'relu']\n",
    "    \n",
    "    neurons = round(neurons)\n",
    "    activation = act_list[round(activation)]\n",
    "    batch_size = round(batch_size)\n",
    "    epochs = round(epochs)\n",
    "    layers1 = round(layers1)\n",
    "    layers2 = round(layers2)\n",
    "    \n",
    "    opt_list = ['SGD', 'Adam', 'RMSprop', 'Adadelta', 'Adagrad', 'Adamax', 'Nadam', 'Ftrl','SGD']\n",
    "    \n",
    "    opt_dict= {'Adam':Adam(lr=learning_rate), 'SGD':SGD(lr=learning_rate),'RMSprop':RMSprop(lr=learning_rate), 'Adadelta':Adadelta(lr=learning_rate),'Adagrad':Adagrad(lr=learning_rate), 'Adamax':Adamax(lr=learning_rate),'Nadam':Nadam(lr=learning_rate), 'Ftrl':Ftrl(lr=learning_rate)}\n",
    "    \n",
    "    optimizer = opt_dict[opt_list[round(optimizer)]]\n",
    "    \n",
    "    def temp_model2():\n",
    "        model2 = Sequential()\n",
    "        model2.add(Dense(neurons, input_dim=95, activation=activation))\n",
    "        if normalization > 0.5:\n",
    "            model2.add(BatchNormalization())\n",
    "        for i in range(layers1):\n",
    "            model2.add(Dense(neurons, activation=activation))\n",
    "        if dropout > 0.5:\n",
    "            model2.add(Dropout(dropout_rate, seed=123))\n",
    "        for i in range(layers2):\n",
    "            model2.add(Dense(neurons, activation=activation))\n",
    "        model2.add(Dense(1, activation='sigmoid'))\n",
    "        model2.compile(loss='binary_crossentropy', optimizer=optimizer, metrics=[get_f1])\n",
    "        return model2\n",
    "    \n",
    "    model2 = KerasClassifier(build_fn=temp_model2, epochs=epochs, batch_size=batch_size, verbose=0)\n",
    "    \n",
    "    strat_fold = Stratifiedstrat_fold(n_splits=5, shuffle=True, random_state=123)\n",
    "    score = cross_val_score(model2, X_train_bal1, y_train_bal1, scoring=f1_scorer, cv=strat_fold).mean()\n",
    "    \n",
    "    return score\n",
    "\n",
    "params_range2 ={\n",
    "    'neurons': (10, 100),\n",
    "    'activation':(0, 9),\n",
    "    'optimizer':(0,7),\n",
    "    'learning_rate':(0.01, 1),\n",
    "    'batch_size':(200, 1000),\n",
    "    'epochs':(20, 100),\n",
    "    'layers1':(1,3),\n",
    "    'layers2':(1,3),\n",
    "    'normalization':(0,1),\n",
    "    'dropout':(0,1),\n",
    "    'dropout_rate':(0,0.3)\n",
    "}\n",
    "# Run Bayesian Optimization\n",
    "baye_opt2 = BayesianOptimization(hypertuning_func2, params_range2, random_state=111)\n",
    "baye_opt2.maximize(init_points=25, n_iter=4)"
   ]
  },
  {
   "cell_type": "code",
   "execution_count": 27,
   "id": "490b835f",
   "metadata": {},
   "outputs": [
    {
     "data": {
      "text/plain": [
       "{'activation': 'softplus',\n",
       " 'batch_size': 892,\n",
       " 'dropout': 0.4820887768136817,\n",
       " 'dropout_rate': 0.020802538234812772,\n",
       " 'epochs': 49,\n",
       " 'layers1': 2,\n",
       " 'layers2': 2,\n",
       " 'learning_rate': 0.18768999923061017,\n",
       " 'neurons': 26,\n",
       " 'normalization': 0.9491296024792569,\n",
       " 'optimizer': <keras.optimizers.optimizer_v2.adamax.Adamax at 0x15ec4e610>}"
      ]
     },
     "execution_count": 27,
     "metadata": {},
     "output_type": "execute_result"
    }
   ],
   "source": [
    "tuned_params2 = baye_opt2.max['params']\n",
    "learning_rate = tuned_params2['learning_rate']\n",
    "act_list = ['relu', 'sigmoid', 'softplus', 'softsign', 'tanh', 'selu',\n",
    "               'elu', 'exponential', LeakyReLU,'relu']\n",
    "\n",
    "tuned_params2['activation'] = act_list[round(tuned_params2['activation'])]\n",
    "tuned_params2['batch_size'] = round(tuned_params2['batch_size'])\n",
    "tuned_params2['epochs'] = round(tuned_params2['epochs'])\n",
    "tuned_params2['layers1'] = round(tuned_params2['layers1'])\n",
    "tuned_params2['layers2'] = round(tuned_params2['layers2'])\n",
    "tuned_params2['neurons'] = round(tuned_params2['neurons'])\n",
    "\n",
    "opt_list = ['Adam', 'SGD', 'RMSprop', 'Adadelta', 'Adagrad', 'Adamax', 'Nadam', 'Ftrl','Adam']\n",
    "opt_dict= {'Adam':Adam(lr=learning_rate), 'SGD':SGD(lr=learning_rate),'RMSprop':RMSprop(lr=learning_rate), 'Adadelta':Adadelta(lr=learning_rate),'Adagrad':Adagrad(lr=learning_rate), 'Adamax':Adamax(lr=learning_rate),'Nadam':Nadam(lr=learning_rate), 'Ftrl':Ftrl(lr=learning_rate)}\n",
    "\n",
    "tuned_params2['optimizer'] = opt_dict[opt_list[round(tuned_params2['optimizer'])]]\n",
    "tuned_params2"
   ]
  },
  {
   "cell_type": "markdown",
   "id": "f26a47f4",
   "metadata": {},
   "source": [
    "<br id=\"7.2\">\n",
    "<a href=\"#index\" style=\"color:#033a91; font-size: 16px; text-decoration: none; font-weight:bold;\">7.2 Building the model</a>"
   ]
  },
  {
   "cell_type": "code",
   "execution_count": 31,
   "id": "97877365",
   "metadata": {},
   "outputs": [
    {
     "name": "stderr",
     "output_type": "stream",
     "text": [
      "WARNING:absl:`lr` is deprecated, please use `learning_rate` instead, or use the legacy optimizer, e.g.,tf.keras.optimizers.legacy.Adamax.\n"
     ]
    },
    {
     "name": "stdout",
     "output_type": "stream",
     "text": [
      "Epoch 1/49\n",
      "10/10 [==============================] - 4s 57ms/step - loss: 0.6513 - get_f1: 0.7030 - val_loss: 0.6468 - val_get_f1: 0.1743\n",
      "Epoch 2/49\n",
      "10/10 [==============================] - 0s 19ms/step - loss: 0.5676 - get_f1: 0.8169 - val_loss: 0.6057 - val_get_f1: 0.1826\n",
      "Epoch 3/49\n",
      "10/10 [==============================] - 0s 15ms/step - loss: 0.4947 - get_f1: 0.8368 - val_loss: 0.5545 - val_get_f1: 0.1947\n",
      "Epoch 4/49\n",
      "10/10 [==============================] - 0s 13ms/step - loss: 0.4251 - get_f1: 0.8555 - val_loss: 0.5291 - val_get_f1: 0.1927\n",
      "Epoch 5/49\n",
      "10/10 [==============================] - 0s 14ms/step - loss: 0.3781 - get_f1: 0.8594 - val_loss: 0.5098 - val_get_f1: 0.1953\n",
      "Epoch 6/49\n",
      "10/10 [==============================] - 0s 16ms/step - loss: 0.3453 - get_f1: 0.8664 - val_loss: 0.4918 - val_get_f1: 0.1983\n",
      "Epoch 7/49\n",
      "10/10 [==============================] - 0s 18ms/step - loss: 0.3292 - get_f1: 0.8673 - val_loss: 0.4395 - val_get_f1: 0.2176\n",
      "Epoch 8/49\n",
      "10/10 [==============================] - 0s 18ms/step - loss: 0.3193 - get_f1: 0.8693 - val_loss: 0.4060 - val_get_f1: 0.2289\n",
      "Epoch 9/49\n",
      "10/10 [==============================] - 0s 15ms/step - loss: 0.3122 - get_f1: 0.8767 - val_loss: 0.3953 - val_get_f1: 0.2310\n",
      "Epoch 10/49\n",
      "10/10 [==============================] - 0s 16ms/step - loss: 0.3059 - get_f1: 0.8781 - val_loss: 0.3561 - val_get_f1: 0.2456\n",
      "Epoch 11/49\n",
      "10/10 [==============================] - 0s 15ms/step - loss: 0.3021 - get_f1: 0.8793 - val_loss: 0.3229 - val_get_f1: 0.2522\n",
      "Epoch 12/49\n",
      "10/10 [==============================] - 0s 17ms/step - loss: 0.2966 - get_f1: 0.8790 - val_loss: 0.3076 - val_get_f1: 0.2549\n",
      "Epoch 13/49\n",
      "10/10 [==============================] - 0s 18ms/step - loss: 0.2929 - get_f1: 0.8852 - val_loss: 0.3030 - val_get_f1: 0.2589\n",
      "Epoch 14/49\n",
      "10/10 [==============================] - 0s 15ms/step - loss: 0.2904 - get_f1: 0.8833 - val_loss: 0.2830 - val_get_f1: 0.2659\n",
      "Epoch 15/49\n",
      "10/10 [==============================] - 0s 16ms/step - loss: 0.2875 - get_f1: 0.8827 - val_loss: 0.2665 - val_get_f1: 0.2627\n",
      "Epoch 16/49\n",
      "10/10 [==============================] - 0s 13ms/step - loss: 0.2822 - get_f1: 0.8871 - val_loss: 0.2793 - val_get_f1: 0.2571\n",
      "Epoch 17/49\n",
      "10/10 [==============================] - 0s 14ms/step - loss: 0.2811 - get_f1: 0.8846 - val_loss: 0.2533 - val_get_f1: 0.2875\n",
      "Epoch 18/49\n",
      "10/10 [==============================] - 0s 16ms/step - loss: 0.2777 - get_f1: 0.8842 - val_loss: 0.2521 - val_get_f1: 0.2796\n",
      "Epoch 19/49\n",
      "10/10 [==============================] - 0s 16ms/step - loss: 0.2743 - get_f1: 0.8887 - val_loss: 0.2504 - val_get_f1: 0.2789\n",
      "Epoch 20/49\n",
      "10/10 [==============================] - 0s 19ms/step - loss: 0.2711 - get_f1: 0.8895 - val_loss: 0.2501 - val_get_f1: 0.2341\n",
      "Epoch 21/49\n",
      "10/10 [==============================] - 0s 13ms/step - loss: 0.2684 - get_f1: 0.8894 - val_loss: 0.2450 - val_get_f1: 0.2402\n",
      "Epoch 22/49\n",
      "10/10 [==============================] - 0s 17ms/step - loss: 0.2673 - get_f1: 0.8880 - val_loss: 0.2367 - val_get_f1: 0.2483\n",
      "Epoch 23/49\n",
      "10/10 [==============================] - 0s 17ms/step - loss: 0.2634 - get_f1: 0.8912 - val_loss: 0.2363 - val_get_f1: 0.2476\n",
      "Epoch 24/49\n",
      "10/10 [==============================] - 0s 16ms/step - loss: 0.2608 - get_f1: 0.8921 - val_loss: 0.2442 - val_get_f1: 0.2396\n",
      "Epoch 25/49\n",
      "10/10 [==============================] - 0s 14ms/step - loss: 0.2591 - get_f1: 0.8931 - val_loss: 0.2271 - val_get_f1: 0.2523\n",
      "Epoch 26/49\n",
      "10/10 [==============================] - 0s 17ms/step - loss: 0.2582 - get_f1: 0.8934 - val_loss: 0.2313 - val_get_f1: 0.2502\n",
      "Epoch 27/49\n",
      "10/10 [==============================] - 0s 16ms/step - loss: 0.2528 - get_f1: 0.8989 - val_loss: 0.2353 - val_get_f1: 0.2430\n",
      "Epoch 28/49\n",
      "10/10 [==============================] - 0s 16ms/step - loss: 0.2520 - get_f1: 0.8976 - val_loss: 0.2285 - val_get_f1: 0.2493\n",
      "Epoch 29/49\n",
      "10/10 [==============================] - 0s 14ms/step - loss: 0.2492 - get_f1: 0.8976 - val_loss: 0.2263 - val_get_f1: 0.2491\n",
      "Epoch 30/49\n",
      "10/10 [==============================] - 0s 17ms/step - loss: 0.2488 - get_f1: 0.8992 - val_loss: 0.2377 - val_get_f1: 0.2394\n",
      "Epoch 31/49\n",
      "10/10 [==============================] - 0s 16ms/step - loss: 0.2459 - get_f1: 0.9013 - val_loss: 0.2302 - val_get_f1: 0.2454\n",
      "Epoch 32/49\n",
      "10/10 [==============================] - 0s 16ms/step - loss: 0.2434 - get_f1: 0.8984 - val_loss: 0.2290 - val_get_f1: 0.2441\n",
      "Epoch 33/49\n",
      "10/10 [==============================] - 0s 14ms/step - loss: 0.2417 - get_f1: 0.9007 - val_loss: 0.2302 - val_get_f1: 0.2441\n",
      "Epoch 34/49\n",
      "10/10 [==============================] - 0s 14ms/step - loss: 0.2394 - get_f1: 0.9048 - val_loss: 0.2223 - val_get_f1: 0.2499\n",
      "Epoch 35/49\n",
      "10/10 [==============================] - 0s 14ms/step - loss: 0.2413 - get_f1: 0.9030 - val_loss: 0.2313 - val_get_f1: 0.2439\n",
      "Epoch 36/49\n",
      "10/10 [==============================] - 0s 13ms/step - loss: 0.2364 - get_f1: 0.9068 - val_loss: 0.2212 - val_get_f1: 0.2534\n",
      "Epoch 37/49\n",
      "10/10 [==============================] - 0s 12ms/step - loss: 0.2341 - get_f1: 0.9068 - val_loss: 0.2258 - val_get_f1: 0.2492\n",
      "Epoch 38/49\n",
      "10/10 [==============================] - 0s 12ms/step - loss: 0.2323 - get_f1: 0.9081 - val_loss: 0.2382 - val_get_f1: 0.2424\n",
      "Epoch 39/49\n",
      "10/10 [==============================] - 0s 13ms/step - loss: 0.2309 - get_f1: 0.9122 - val_loss: 0.2247 - val_get_f1: 0.2501\n",
      "Epoch 40/49\n",
      "10/10 [==============================] - 0s 13ms/step - loss: 0.2303 - get_f1: 0.9109 - val_loss: 0.2357 - val_get_f1: 0.2466\n",
      "Epoch 41/49\n",
      "10/10 [==============================] - 0s 13ms/step - loss: 0.2265 - get_f1: 0.9155 - val_loss: 0.2263 - val_get_f1: 0.2478\n",
      "Epoch 42/49\n",
      "10/10 [==============================] - 0s 14ms/step - loss: 0.2266 - get_f1: 0.9130 - val_loss: 0.2343 - val_get_f1: 0.2489\n",
      "Epoch 43/49\n",
      "10/10 [==============================] - 0s 14ms/step - loss: 0.2257 - get_f1: 0.9131 - val_loss: 0.2272 - val_get_f1: 0.2547\n",
      "Epoch 44/49\n",
      "10/10 [==============================] - 0s 13ms/step - loss: 0.2231 - get_f1: 0.9149 - val_loss: 0.2226 - val_get_f1: 0.2668\n",
      "Epoch 45/49\n",
      "10/10 [==============================] - 0s 13ms/step - loss: 0.2209 - get_f1: 0.9138 - val_loss: 0.2284 - val_get_f1: 0.2617\n",
      "Epoch 46/49\n",
      "10/10 [==============================] - 0s 13ms/step - loss: 0.2191 - get_f1: 0.9142 - val_loss: 0.2381 - val_get_f1: 0.2465\n",
      "Epoch 47/49\n",
      "10/10 [==============================] - 0s 16ms/step - loss: 0.2155 - get_f1: 0.9181 - val_loss: 0.2188 - val_get_f1: 0.2733\n",
      "Epoch 48/49\n",
      "10/10 [==============================] - 0s 15ms/step - loss: 0.2138 - get_f1: 0.9200 - val_loss: 0.2254 - val_get_f1: 0.2686\n",
      "Epoch 49/49\n",
      "10/10 [==============================] - 0s 15ms/step - loss: 0.2136 - get_f1: 0.9196 - val_loss: 0.2386 - val_get_f1: 0.2559\n"
     ]
    }
   ],
   "source": [
    "from tensorflow.keras.optimizers import Adamax\n",
    "\n",
    "model1 = Sequential()\n",
    "model1.add(Dense(units=26, input_dim=95, activation='softplus'))\n",
    "model1.add(BatchNormalization())\n",
    "model1.add(Dense(units=26, activation='softplus'))\n",
    "model1.add(Dense(units=26, activation='softplus'))\n",
    "model1.add(Dense(units=26, activation='softplus'))\n",
    "model1.add(Dense(units=26, activation='softplus'))\n",
    "model1.add(Dropout(0.020802538234812772))\n",
    "model1.add(Dense(units=1, activation='sigmoid'))\n",
    "\n",
    "model1.compile(loss='binary_crossentropy', optimizer=Adamax(lr = 0.18768999923061017), metrics=[get_f1])\n",
    "\n",
    "history1 = model1.fit(X_train_bal1, y_train_bal1,batch_size=892, epochs=49, validation_data=(X_test,y_test))"
   ]
  },
  {
   "cell_type": "code",
   "execution_count": 32,
   "id": "ae853ad4",
   "metadata": {},
   "outputs": [
    {
     "name": "stdout",
     "output_type": "stream",
     "text": [
      "59/59 [==============================] - 0s 2ms/step\n"
     ]
    },
    {
     "data": {
      "image/png": "[encoded data removed]",
      "text/plain": [
       "<Figure size 504x504 with 2 Axes>"
      ]
     },
     "metadata": {
      "needs_background": "light"
     },
     "output_type": "display_data"
    },
    {
     "name": "stdout",
     "output_type": "stream",
     "text": [
      "\n",
      "\n",
      "Classification Report:\n",
      "              precision    recall  f1-score   support\n",
      "\n",
      "           0       0.99      0.90      0.95      1824\n",
      "           1       0.19      0.74      0.31        57\n",
      "\n",
      "    accuracy                           0.90      1881\n",
      "   macro avg       0.59      0.82      0.63      1881\n",
      "weighted avg       0.97      0.90      0.93      1881\n",
      "\n"
     ]
    }
   ],
   "source": [
    "def predict(model,x):\n",
    "    pred  = model.predict(x)\n",
    "    pred[pred >= 0.5] = 1\n",
    "    pred[pred < 0.5] = 0\n",
    "    return pred\n",
    "\n",
    "def predict_graph(y_true,y_pred,title):\n",
    "    cm = confusion_matrix(y_true,y_pred)\n",
    "    plt.figure(figsize=(7,7))\n",
    "    sns.heatmap(cm,annot=True,fmt='g',cmap=\"YlGnBu\",\n",
    "                xticklabels=['No Bankruptcy','Bankruptcy'],yticklabels=['No Bankruptcy','Bankruptcy'])\n",
    "    plt.title(title)\n",
    "    plt.show()\n",
    "    \n",
    "    print(\"\\n\")\n",
    "    print(\"Classification Report:\")\n",
    "    print(classification_report(y_true,y_pred))\n",
    "\n",
    "\n",
    "y_test_pred = predict(model1,X_test)\n",
    "predict_graph(y_test,y_test_pred,'Test Data Predictions')"
   ]
  },
  {
   "cell_type": "markdown",
   "id": "f79703c5",
   "metadata": {},
   "source": [
    "<br id=\"8\">\n",
    "<a href=\"#index\" style=\"color:#033a91; font-size: 22px; text-decoration: none; font-weight:bold;\"> 8. Model 3: 5-layer-ANN-PCA-BSM </a>\n",
    "<hr style=\"height:1px;border-width:0;color:gray;background-color:gray\">"
   ]
  },
  {
   "cell_type": "markdown",
   "id": "4eec2f59",
   "metadata": {},
   "source": [
    "<br id=\"8.1\">\n",
    "<a href=\"#index\" style=\"color:#033a91; font-size: 16px; text-decoration: none; font-weight:bold;\">8.1 PCA</a>\n"
   ]
  },
  {
   "cell_type": "code",
   "execution_count": 37,
   "id": "d9189b9d",
   "metadata": {},
   "outputs": [],
   "source": [
    "# Perform PCA (90%)\n",
    "pca = PCA(n_components=0.90)  # WE DO THIS TO PREVENT OVERFITTING\n",
    "X_train_pca = pca.fit_transform(X_train)\n",
    "X_test_pca = pca.transform(X_test)"
   ]
  },
  {
   "cell_type": "markdown",
   "id": "d1e7e562",
   "metadata": {},
   "source": [
    "<br id=\"8.2\">\n",
    "<a href=\"#index\" style=\"color:#033a91; font-size: 16px; text-decoration: none; font-weight:bold;\">8.2 BSM Oversampling</a>\n"
   ]
  },
  {
   "cell_type": "code",
   "execution_count": 38,
   "id": "f416a3c2",
   "metadata": {},
   "outputs": [],
   "source": [
    "# Perform oversampling on the training data using Borderline SMOTE\n",
    "\n",
    "sm2 = BorderlineSMOTE(random_state=42)\n",
    "X_train_bal2, y_train_bal2 = sm2.fit_resample(X_train_pca, y_train)"
   ]
  },
  {
   "cell_type": "code",
   "execution_count": 41,
   "id": "24dfd2e3",
   "metadata": {},
   "outputs": [
    {
     "name": "stdout",
     "output_type": "stream",
     "text": [
      "0    4228\n",
      "1    4228\n",
      "Name: Bankrupt?, dtype: int64\n"
     ]
    }
   ],
   "source": [
    "target_counts = y_train_bal2.value_counts()\n",
    "print(target_counts)"
   ]
  },
  {
   "cell_type": "code",
   "execution_count": 40,
   "id": "c1d25360",
   "metadata": {},
   "outputs": [
    {
     "data": {
      "text/plain": [
       "((8456, 41), (1881, 41), (8456,), (1881,))"
      ]
     },
     "execution_count": 40,
     "metadata": {},
     "output_type": "execute_result"
    }
   ],
   "source": [
    "X_train_bal2.shape,X_test_pca.shape,y_train_bal2.shape,y_test.shape"
   ]
  },
  {
   "cell_type": "markdown",
   "id": "b628f7f6",
   "metadata": {},
   "source": [
    "<br id=\"8.3\">\n",
    "<a href=\"#index\" style=\"color:#033a91; font-size: 16px; text-decoration: none; font-weight:bold;\">8.3 Tuning the hyperparameters</a>\n"
   ]
  },
  {
   "cell_type": "code",
   "execution_count": 44,
   "id": "d9adb3fc",
   "metadata": {
    "scrolled": true
   },
   "outputs": [
    {
     "name": "stderr",
     "output_type": "stream",
     "text": [
      "WARNING:absl:`lr` is deprecated, please use `learning_rate` instead, or use the legacy optimizer, e.g.,tf.keras.optimizers.legacy.Adamax.\n"
     ]
    },
    {
     "name": "stdout",
     "output_type": "stream",
     "text": [
      "|   iter    |  target   | activa... | batch_... |  epochs   | learni... |  neurons  | optimizer |\n",
      "-------------------------------------------------------------------------------------------------\n",
      "53/53 [==============================] - 0s 2ms/step\n",
      "53/53 [==============================] - 0s 4ms/step\n",
      "53/53 [==============================] - 0s 1ms/step\n",
      "53/53 [==============================] - 0s 1ms/step\n",
      "53/53 [==============================] - 0s 2ms/step\n"
     ]
    },
    {
     "name": "stderr",
     "output_type": "stream",
     "text": [
      "WARNING:absl:`lr` is deprecated, please use `learning_rate` instead, or use the legacy optimizer, e.g.,tf.keras.optimizers.legacy.Adamax.\n"
     ]
    },
    {
     "name": "stdout",
     "output_type": "stream",
     "text": [
      "| \u001b[0m1        \u001b[0m | \u001b[0m0.8415   \u001b[0m | \u001b[0m5.51     \u001b[0m | \u001b[0m335.3    \u001b[0m | \u001b[0m54.88    \u001b[0m | \u001b[0m0.7716   \u001b[0m | \u001b[0m36.58    \u001b[0m | \u001b[0m1.044    \u001b[0m |\n",
      "53/53 [==============================] - 0s 3ms/step\n",
      "53/53 [==============================] - 0s 3ms/step\n",
      "53/53 [==============================] - 0s 2ms/step\n",
      "53/53 [==============================] - 0s 2ms/step\n",
      "53/53 [==============================] - 0s 2ms/step\n"
     ]
    },
    {
     "name": "stderr",
     "output_type": "stream",
     "text": [
      "WARNING:absl:`lr` is deprecated, please use `learning_rate` instead, or use the legacy optimizer, e.g.,tf.keras.optimizers.legacy.Adamax.\n"
     ]
    },
    {
     "name": "stdout",
     "output_type": "stream",
     "text": [
      "| \u001b[95m2        \u001b[0m | \u001b[95m0.9615   \u001b[0m | \u001b[95m0.2023   \u001b[0m | \u001b[95m536.2    \u001b[0m | \u001b[95m39.09    \u001b[0m | \u001b[95m0.3443   \u001b[0m | \u001b[95m99.16    \u001b[0m | \u001b[95m1.664    \u001b[0m |\n",
      "53/53 [==============================] - 0s 2ms/step\n",
      "53/53 [==============================] - 0s 2ms/step\n",
      "53/53 [==============================] - 0s 3ms/step\n",
      "53/53 [==============================] - 0s 2ms/step\n",
      "53/53 [==============================] - 0s 2ms/step\n"
     ]
    },
    {
     "name": "stderr",
     "output_type": "stream",
     "text": [
      "WARNING:absl:`lr` is deprecated, please use `learning_rate` instead, or use the legacy optimizer, e.g.,tf.keras.optimizers.legacy.Adamax.\n"
     ]
    },
    {
     "name": "stdout",
     "output_type": "stream",
     "text": [
      "| \u001b[0m3        \u001b[0m | \u001b[0m0.3907   \u001b[0m | \u001b[0m0.7307   \u001b[0m | \u001b[0m735.7    \u001b[0m | \u001b[0m69.7     \u001b[0m | \u001b[0m0.2815   \u001b[0m | \u001b[0m51.96    \u001b[0m | \u001b[0m0.8286   \u001b[0m |\n",
      "53/53 [==============================] - 0s 2ms/step\n",
      "53/53 [==============================] - 0s 2ms/step\n",
      "53/53 [==============================] - 0s 2ms/step\n",
      "53/53 [==============================] - 0s 2ms/step\n",
      "53/53 [==============================] - 0s 2ms/step\n"
     ]
    },
    {
     "name": "stderr",
     "output_type": "stream",
     "text": [
      "WARNING:absl:`lr` is deprecated, please use `learning_rate` instead, or use the legacy optimizer, e.g.,tf.keras.optimizers.legacy.Adamax.\n"
     ]
    },
    {
     "name": "stdout",
     "output_type": "stream",
     "text": [
      "| \u001b[0m4        \u001b[0m | \u001b[0m0.1333   \u001b[0m | \u001b[0m0.6656   \u001b[0m | \u001b[0m920.6    \u001b[0m | \u001b[0m83.52    \u001b[0m | \u001b[0m0.8422   \u001b[0m | \u001b[0m83.37    \u001b[0m | \u001b[0m6.937    \u001b[0m |\n",
      "53/53 [==============================] - 0s 3ms/step\n",
      "53/53 [==============================] - 0s 2ms/step\n",
      "53/53 [==============================] - 0s 2ms/step\n",
      "53/53 [==============================] - 0s 1ms/step\n",
      "53/53 [==============================] - 0s 2ms/step\n"
     ]
    },
    {
     "name": "stderr",
     "output_type": "stream",
     "text": [
      "WARNING:absl:`lr` is deprecated, please use `learning_rate` instead, or use the legacy optimizer, e.g.,tf.keras.optimizers.legacy.Adamax.\n"
     ]
    },
    {
     "name": "stdout",
     "output_type": "stream",
     "text": [
      "| \u001b[95m5        \u001b[0m | \u001b[95m0.9834   \u001b[0m | \u001b[95m5.195    \u001b[0m | \u001b[95m851.0    \u001b[0m | \u001b[95m53.71    \u001b[0m | \u001b[95m0.03717  \u001b[0m | \u001b[95m50.87    \u001b[0m | \u001b[95m0.7373   \u001b[0m |\n",
      "53/53 [==============================] - 0s 2ms/step\n",
      "53/53 [==============================] - 0s 2ms/step\n",
      "53/53 [==============================] - 0s 2ms/step\n",
      "53/53 [==============================] - 0s 1ms/step\n",
      "53/53 [==============================] - 0s 1ms/step\n"
     ]
    },
    {
     "name": "stderr",
     "output_type": "stream",
     "text": [
      "WARNING:absl:`lr` is deprecated, please use `learning_rate` instead, or use the legacy optimizer, e.g.,tf.keras.optimizers.legacy.Adamax.\n"
     ]
    },
    {
     "name": "stdout",
     "output_type": "stream",
     "text": [
      "| \u001b[0m6        \u001b[0m | \u001b[0m0.0      \u001b[0m | \u001b[0m7.355    \u001b[0m | \u001b[0m758.2    \u001b[0m | \u001b[0m65.22    \u001b[0m | \u001b[0m0.2815   \u001b[0m | \u001b[0m99.86    \u001b[0m | \u001b[0m0.9663   \u001b[0m |\n",
      "53/53 [==============================] - 0s 3ms/step\n",
      "53/53 [==============================] - 0s 2ms/step\n",
      "53/53 [==============================] - 0s 1ms/step\n",
      "53/53 [==============================] - 0s 1ms/step\n",
      "53/53 [==============================] - 0s 1ms/step\n"
     ]
    },
    {
     "name": "stderr",
     "output_type": "stream",
     "text": [
      "WARNING:absl:`lr` is deprecated, please use `learning_rate` instead, or use the legacy optimizer, e.g.,tf.keras.optimizers.legacy.Adamax.\n"
     ]
    },
    {
     "name": "stdout",
     "output_type": "stream",
     "text": [
      "| \u001b[0m7        \u001b[0m | \u001b[0m0.8876   \u001b[0m | \u001b[0m5.539    \u001b[0m | \u001b[0m588.0    \u001b[0m | \u001b[0m52.4     \u001b[0m | \u001b[0m0.7306   \u001b[0m | \u001b[0m39.05    \u001b[0m | \u001b[0m2.804    \u001b[0m |\n",
      "53/53 [==============================] - 0s 2ms/step\n",
      "53/53 [==============================] - 0s 2ms/step\n",
      "53/53 [==============================] - 0s 1ms/step\n",
      "53/53 [==============================] - 0s 1ms/step\n",
      "53/53 [==============================] - 0s 1ms/step\n"
     ]
    },
    {
     "name": "stderr",
     "output_type": "stream",
     "text": [
      "WARNING:absl:`lr` is deprecated, please use `learning_rate` instead, or use the legacy optimizer, e.g.,tf.keras.optimizers.legacy.Adamax.\n"
     ]
    },
    {
     "name": "stdout",
     "output_type": "stream",
     "text": [
      "| \u001b[0m8        \u001b[0m | \u001b[0m0.9331   \u001b[0m | \u001b[0m2.871    \u001b[0m | \u001b[0m957.8    \u001b[0m | \u001b[0m93.5     \u001b[0m | \u001b[0m0.8157   \u001b[0m | \u001b[0m13.07    \u001b[0m | \u001b[0m6.604    \u001b[0m |\n",
      "53/53 [==============================] - 0s 1ms/step\n",
      "53/53 [==============================] - 0s 2ms/step\n",
      "53/53 [==============================] - 0s 2ms/step\n",
      "53/53 [==============================] - 0s 2ms/step\n",
      "53/53 [==============================] - 0s 2ms/step\n"
     ]
    },
    {
     "name": "stderr",
     "output_type": "stream",
     "text": [
      "WARNING:absl:`lr` is deprecated, please use `learning_rate` instead, or use the legacy optimizer, e.g.,tf.keras.optimizers.legacy.Adamax.\n"
     ]
    },
    {
     "name": "stdout",
     "output_type": "stream",
     "text": [
      "| \u001b[0m9        \u001b[0m | \u001b[0m0.8047   \u001b[0m | \u001b[0m8.554    \u001b[0m | \u001b[0m845.3    \u001b[0m | \u001b[0m58.5     \u001b[0m | \u001b[0m0.9671   \u001b[0m | \u001b[0m47.53    \u001b[0m | \u001b[0m2.232    \u001b[0m |\n",
      "53/53 [==============================] - 0s 1ms/step\n",
      "53/53 [==============================] - 0s 2ms/step\n",
      "53/53 [==============================] - 0s 2ms/step\n",
      "53/53 [==============================] - 0s 2ms/step\n",
      "53/53 [==============================] - 0s 3ms/step\n"
     ]
    },
    {
     "name": "stderr",
     "output_type": "stream",
     "text": [
      "WARNING:absl:`lr` is deprecated, please use `learning_rate` instead, or use the legacy optimizer, e.g.,tf.keras.optimizers.legacy.Adamax.\n"
     ]
    },
    {
     "name": "stdout",
     "output_type": "stream",
     "text": [
      "| \u001b[0m10       \u001b[0m | \u001b[0m0.964    \u001b[0m | \u001b[0m0.148    \u001b[0m | \u001b[0m230.5    \u001b[0m | \u001b[0m24.25    \u001b[0m | \u001b[0m0.1367   \u001b[0m | \u001b[0m13.0     \u001b[0m | \u001b[0m1.585    \u001b[0m |\n",
      "53/53 [==============================] - 0s 2ms/step\n",
      "53/53 [==============================] - 0s 2ms/step\n",
      "53/53 [==============================] - 0s 2ms/step\n",
      "53/53 [==============================] - 0s 2ms/step\n",
      "53/53 [==============================] - 0s 2ms/step\n"
     ]
    },
    {
     "name": "stderr",
     "output_type": "stream",
     "text": [
      "WARNING:absl:`lr` is deprecated, please use `learning_rate` instead, or use the legacy optimizer, e.g.,tf.keras.optimizers.legacy.Adamax.\n"
     ]
    },
    {
     "name": "stdout",
     "output_type": "stream",
     "text": [
      "| \u001b[0m11       \u001b[0m | \u001b[0m0.9678   \u001b[0m | \u001b[0m4.895    \u001b[0m | \u001b[0m342.9    \u001b[0m | \u001b[0m34.35    \u001b[0m | \u001b[0m0.1581   \u001b[0m | \u001b[0m71.47    \u001b[0m | \u001b[0m3.283    \u001b[0m |\n",
      "53/53 [==============================] - 0s 2ms/step\n",
      "53/53 [==============================] - 0s 2ms/step\n",
      "53/53 [==============================] - 0s 2ms/step\n",
      "53/53 [==============================] - 0s 2ms/step\n",
      "53/53 [==============================] - 0s 2ms/step\n"
     ]
    },
    {
     "name": "stderr",
     "output_type": "stream",
     "text": [
      "WARNING:absl:`lr` is deprecated, please use `learning_rate` instead, or use the legacy optimizer, e.g.,tf.keras.optimizers.legacy.Adamax.\n"
     ]
    },
    {
     "name": "stdout",
     "output_type": "stream",
     "text": [
      "| \u001b[0m12       \u001b[0m | \u001b[0m0.0      \u001b[0m | \u001b[0m6.914    \u001b[0m | \u001b[0m735.1    \u001b[0m | \u001b[0m55.3     \u001b[0m | \u001b[0m0.5993   \u001b[0m | \u001b[0m51.55    \u001b[0m | \u001b[0m6.743    \u001b[0m |\n",
      "53/53 [==============================] - 0s 2ms/step\n",
      "53/53 [==============================] - 0s 2ms/step\n",
      "53/53 [==============================] - 0s 2ms/step\n",
      "53/53 [==============================] - 0s 2ms/step\n",
      "53/53 [==============================] - 0s 2ms/step\n"
     ]
    },
    {
     "name": "stderr",
     "output_type": "stream",
     "text": [
      "WARNING:absl:`lr` is deprecated, please use `learning_rate` instead, or use the legacy optimizer, e.g.,tf.keras.optimizers.legacy.Adamax.\n"
     ]
    },
    {
     "name": "stdout",
     "output_type": "stream",
     "text": [
      "| \u001b[0m13       \u001b[0m | \u001b[0m0.8415   \u001b[0m | \u001b[0m1.33     \u001b[0m | \u001b[0m925.5    \u001b[0m | \u001b[0m59.83    \u001b[0m | \u001b[0m0.5966   \u001b[0m | \u001b[0m71.62    \u001b[0m | \u001b[0m1.242    \u001b[0m |\n",
      "53/53 [==============================] - 0s 2ms/step\n",
      "53/53 [==============================] - 0s 2ms/step\n",
      "53/53 [==============================] - 0s 2ms/step\n",
      "53/53 [==============================] - 0s 1ms/step\n",
      "53/53 [==============================] - 0s 1ms/step\n"
     ]
    },
    {
     "name": "stderr",
     "output_type": "stream",
     "text": [
      "WARNING:absl:`lr` is deprecated, please use `learning_rate` instead, or use the legacy optimizer, e.g.,tf.keras.optimizers.legacy.Adamax.\n"
     ]
    },
    {
     "name": "stdout",
     "output_type": "stream",
     "text": [
      "| \u001b[0m14       \u001b[0m | \u001b[0m0.9276   \u001b[0m | \u001b[0m7.782    \u001b[0m | \u001b[0m585.7    \u001b[0m | \u001b[0m25.55    \u001b[0m | \u001b[0m0.3711   \u001b[0m | \u001b[0m42.54    \u001b[0m | \u001b[0m3.304    \u001b[0m |\n",
      "53/53 [==============================] - 0s 2ms/step\n",
      "53/53 [==============================] - 0s 2ms/step\n",
      "53/53 [==============================] - 0s 2ms/step\n",
      "53/53 [==============================] - 0s 2ms/step\n",
      "53/53 [==============================] - 0s 1ms/step\n"
     ]
    },
    {
     "name": "stderr",
     "output_type": "stream",
     "text": [
      "WARNING:absl:`lr` is deprecated, please use `learning_rate` instead, or use the legacy optimizer, e.g.,tf.keras.optimizers.legacy.Adamax.\n"
     ]
    },
    {
     "name": "stdout",
     "output_type": "stream",
     "text": [
      "| \u001b[0m15       \u001b[0m | \u001b[0m0.4415   \u001b[0m | \u001b[0m1.615    \u001b[0m | \u001b[0m340.2    \u001b[0m | \u001b[0m95.93    \u001b[0m | \u001b[0m0.6591   \u001b[0m | \u001b[0m22.15    \u001b[0m | \u001b[0m6.495    \u001b[0m |\n",
      "53/53 [==============================] - 0s 2ms/step\n",
      "53/53 [==============================] - 0s 2ms/step\n",
      "53/53 [==============================] - 0s 2ms/step\n",
      "53/53 [==============================] - 0s 1ms/step\n",
      "53/53 [==============================] - 0s 2ms/step\n"
     ]
    },
    {
     "name": "stderr",
     "output_type": "stream",
     "text": [
      "WARNING:absl:`lr` is deprecated, please use `learning_rate` instead, or use the legacy optimizer, e.g.,tf.keras.optimizers.legacy.Adamax.\n"
     ]
    },
    {
     "name": "stdout",
     "output_type": "stream",
     "text": [
      "| \u001b[0m16       \u001b[0m | \u001b[0m0.9616   \u001b[0m | \u001b[0m7.576    \u001b[0m | \u001b[0m242.2    \u001b[0m | \u001b[0m36.29    \u001b[0m | \u001b[0m0.8738   \u001b[0m | \u001b[0m70.65    \u001b[0m | \u001b[0m2.081    \u001b[0m |\n",
      "53/53 [==============================] - 0s 2ms/step\n",
      "53/53 [==============================] - 0s 2ms/step\n",
      "53/53 [==============================] - 0s 4ms/step\n",
      "53/53 [==============================] - 0s 2ms/step\n",
      "53/53 [==============================] - 0s 2ms/step\n"
     ]
    },
    {
     "name": "stderr",
     "output_type": "stream",
     "text": [
      "WARNING:absl:`lr` is deprecated, please use `learning_rate` instead, or use the legacy optimizer, e.g.,tf.keras.optimizers.legacy.Adamax.\n"
     ]
    },
    {
     "name": "stdout",
     "output_type": "stream",
     "text": [
      "| \u001b[0m17       \u001b[0m | \u001b[0m0.0      \u001b[0m | \u001b[0m6.61     \u001b[0m | \u001b[0m694.7    \u001b[0m | \u001b[0m36.84    \u001b[0m | \u001b[0m0.804    \u001b[0m | \u001b[0m15.32    \u001b[0m | \u001b[0m2.158    \u001b[0m |\n",
      "53/53 [==============================] - 0s 2ms/step\n",
      "53/53 [==============================] - 0s 1ms/step\n",
      "53/53 [==============================] - 0s 1ms/step\n",
      "53/53 [==============================] - 0s 2ms/step\n",
      "53/53 [==============================] - 0s 2ms/step\n"
     ]
    },
    {
     "name": "stderr",
     "output_type": "stream",
     "text": [
      "WARNING:absl:`lr` is deprecated, please use `learning_rate` instead, or use the legacy optimizer, e.g.,tf.keras.optimizers.legacy.Adamax.\n"
     ]
    },
    {
     "name": "stdout",
     "output_type": "stream",
     "text": [
      "| \u001b[0m18       \u001b[0m | \u001b[0m0.5239   \u001b[0m | \u001b[0m1.866    \u001b[0m | \u001b[0m977.8    \u001b[0m | \u001b[0m92.75    \u001b[0m | \u001b[0m0.6797   \u001b[0m | \u001b[0m20.37    \u001b[0m | \u001b[0m6.706    \u001b[0m |\n",
      "53/53 [==============================] - 0s 2ms/step\n",
      "53/53 [==============================] - 0s 2ms/step\n",
      "53/53 [==============================] - 0s 1ms/step\n",
      "53/53 [==============================] - 0s 2ms/step\n",
      "53/53 [==============================] - 0s 1ms/step\n"
     ]
    },
    {
     "name": "stderr",
     "output_type": "stream",
     "text": [
      "WARNING:absl:`lr` is deprecated, please use `learning_rate` instead, or use the legacy optimizer, e.g.,tf.keras.optimizers.legacy.Adamax.\n"
     ]
    },
    {
     "name": "stdout",
     "output_type": "stream",
     "text": [
      "| \u001b[0m19       \u001b[0m | \u001b[0m0.4607   \u001b[0m | \u001b[0m0.8254   \u001b[0m | \u001b[0m703.8    \u001b[0m | \u001b[0m92.23    \u001b[0m | \u001b[0m0.3464   \u001b[0m | \u001b[0m68.75    \u001b[0m | \u001b[0m6.476    \u001b[0m |\n",
      "53/53 [==============================] - 0s 1ms/step\n",
      "53/53 [==============================] - 0s 1ms/step\n",
      "53/53 [==============================] - 0s 1ms/step\n",
      "53/53 [==============================] - 0s 1ms/step\n",
      "53/53 [==============================] - 0s 2ms/step\n"
     ]
    },
    {
     "name": "stderr",
     "output_type": "stream",
     "text": [
      "WARNING:absl:`lr` is deprecated, please use `learning_rate` instead, or use the legacy optimizer, e.g.,tf.keras.optimizers.legacy.Adamax.\n"
     ]
    },
    {
     "name": "stdout",
     "output_type": "stream",
     "text": [
      "| \u001b[0m20       \u001b[0m | \u001b[0m0.9509   \u001b[0m | \u001b[0m3.366    \u001b[0m | \u001b[0m817.1    \u001b[0m | \u001b[0m91.69    \u001b[0m | \u001b[0m0.624    \u001b[0m | \u001b[0m23.6     \u001b[0m | \u001b[0m2.624    \u001b[0m |\n",
      "53/53 [==============================] - 0s 2ms/step\n",
      "53/53 [==============================] - 0s 2ms/step\n",
      "53/53 [==============================] - 0s 1ms/step\n",
      "53/53 [==============================] - 1s 1ms/step\n",
      "53/53 [==============================] - 0s 1ms/step\n"
     ]
    },
    {
     "name": "stderr",
     "output_type": "stream",
     "text": [
      "WARNING:absl:`lr` is deprecated, please use `learning_rate` instead, or use the legacy optimizer, e.g.,tf.keras.optimizers.legacy.Adamax.\n"
     ]
    },
    {
     "name": "stdout",
     "output_type": "stream",
     "text": [
      "| \u001b[0m21       \u001b[0m | \u001b[0m0.9708   \u001b[0m | \u001b[0m5.723    \u001b[0m | \u001b[0m567.3    \u001b[0m | \u001b[0m62.58    \u001b[0m | \u001b[0m0.3588   \u001b[0m | \u001b[0m69.39    \u001b[0m | \u001b[0m3.336    \u001b[0m |\n",
      "53/53 [==============================] - 0s 2ms/step\n",
      "53/53 [==============================] - 0s 1ms/step\n",
      "53/53 [==============================] - 0s 1ms/step\n",
      "53/53 [==============================] - 0s 2ms/step\n",
      "53/53 [==============================] - 0s 1ms/step\n"
     ]
    },
    {
     "name": "stderr",
     "output_type": "stream",
     "text": [
      "WARNING:absl:`lr` is deprecated, please use `learning_rate` instead, or use the legacy optimizer, e.g.,tf.keras.optimizers.legacy.Adamax.\n"
     ]
    },
    {
     "name": "stdout",
     "output_type": "stream",
     "text": [
      "| \u001b[0m22       \u001b[0m | \u001b[0m0.9434   \u001b[0m | \u001b[0m4.091    \u001b[0m | \u001b[0m299.8    \u001b[0m | \u001b[0m53.0     \u001b[0m | \u001b[0m0.2804   \u001b[0m | \u001b[0m41.21    \u001b[0m | \u001b[0m6.821    \u001b[0m |\n",
      "53/53 [==============================] - 0s 2ms/step\n",
      "53/53 [==============================] - 0s 2ms/step\n",
      "53/53 [==============================] - 0s 2ms/step\n",
      "53/53 [==============================] - 0s 2ms/step\n",
      "53/53 [==============================] - 0s 2ms/step\n"
     ]
    },
    {
     "name": "stderr",
     "output_type": "stream",
     "text": [
      "WARNING:absl:`lr` is deprecated, please use `learning_rate` instead, or use the legacy optimizer, e.g.,tf.keras.optimizers.legacy.Adamax.\n"
     ]
    },
    {
     "name": "stdout",
     "output_type": "stream",
     "text": [
      "| \u001b[0m23       \u001b[0m | \u001b[0m0.3156   \u001b[0m | \u001b[0m1.94     \u001b[0m | \u001b[0m746.3    \u001b[0m | \u001b[0m22.54    \u001b[0m | \u001b[0m0.837    \u001b[0m | \u001b[0m73.15    \u001b[0m | \u001b[0m6.762    \u001b[0m |\n",
      "53/53 [==============================] - 0s 2ms/step\n",
      "53/53 [==============================] - 0s 2ms/step\n",
      "53/53 [==============================] - 0s 2ms/step\n",
      "53/53 [==============================] - 0s 2ms/step\n",
      "53/53 [==============================] - 0s 2ms/step\n"
     ]
    },
    {
     "name": "stderr",
     "output_type": "stream",
     "text": [
      "WARNING:absl:`lr` is deprecated, please use `learning_rate` instead, or use the legacy optimizer, e.g.,tf.keras.optimizers.legacy.Adamax.\n"
     ]
    },
    {
     "name": "stdout",
     "output_type": "stream",
     "text": [
      "| \u001b[0m24       \u001b[0m | \u001b[0m0.982    \u001b[0m | \u001b[0m5.326    \u001b[0m | \u001b[0m373.9    \u001b[0m | \u001b[0m77.54    \u001b[0m | \u001b[0m0.04056  \u001b[0m | \u001b[0m47.68    \u001b[0m | \u001b[0m1.969    \u001b[0m |\n",
      "53/53 [==============================] - 0s 2ms/step\n",
      "53/53 [==============================] - 0s 2ms/step\n",
      "53/53 [==============================] - 0s 1ms/step\n",
      "53/53 [==============================] - 0s 2ms/step\n",
      "53/53 [==============================] - 0s 2ms/step\n",
      "| \u001b[0m25       \u001b[0m | \u001b[0m0.786    \u001b[0m | \u001b[0m0.9562   \u001b[0m | \u001b[0m541.1    \u001b[0m | \u001b[0m87.25    \u001b[0m | \u001b[0m0.1193   \u001b[0m | \u001b[0m98.8     \u001b[0m | \u001b[0m1.633    \u001b[0m |\n"
     ]
    },
    {
     "name": "stderr",
     "output_type": "stream",
     "text": [
      "WARNING:absl:`lr` is deprecated, please use `learning_rate` instead, or use the legacy optimizer, e.g.,tf.keras.optimizers.legacy.Adamax.\n"
     ]
    },
    {
     "name": "stdout",
     "output_type": "stream",
     "text": [
      "53/53 [==============================] - 0s 1ms/step\n",
      "53/53 [==============================] - 0s 1ms/step\n",
      "53/53 [==============================] - 0s 2ms/step\n",
      "53/53 [==============================] - 0s 1ms/step\n",
      "53/53 [==============================] - 0s 1ms/step\n",
      "| \u001b[95m26       \u001b[0m | \u001b[95m0.9841   \u001b[0m | \u001b[95m0.0      \u001b[0m | \u001b[95m885.2    \u001b[0m | \u001b[95m36.11    \u001b[0m | \u001b[95m0.01     \u001b[0m | \u001b[95m52.9     \u001b[0m | \u001b[95m0.0      \u001b[0m |\n"
     ]
    },
    {
     "name": "stderr",
     "output_type": "stream",
     "text": [
      "WARNING:absl:`lr` is deprecated, please use `learning_rate` instead, or use the legacy optimizer, e.g.,tf.keras.optimizers.legacy.Adamax.\n"
     ]
    },
    {
     "name": "stdout",
     "output_type": "stream",
     "text": [
      "53/53 [==============================] - 0s 1ms/step\n",
      "53/53 [==============================] - 0s 2ms/step\n",
      "53/53 [==============================] - 0s 1ms/step\n",
      "53/53 [==============================] - 0s 2ms/step\n",
      "53/53 [==============================] - 0s 1ms/step\n",
      "| \u001b[0m27       \u001b[0m | \u001b[0m0.9688   \u001b[0m | \u001b[0m0.785    \u001b[0m | \u001b[0m925.7    \u001b[0m | \u001b[0m63.19    \u001b[0m | \u001b[0m0.2954   \u001b[0m | \u001b[0m14.66    \u001b[0m | \u001b[0m5.517    \u001b[0m |\n"
     ]
    },
    {
     "name": "stderr",
     "output_type": "stream",
     "text": [
      "WARNING:absl:`lr` is deprecated, please use `learning_rate` instead, or use the legacy optimizer, e.g.,tf.keras.optimizers.legacy.Adamax.\n"
     ]
    },
    {
     "name": "stdout",
     "output_type": "stream",
     "text": [
      "53/53 [==============================] - 0s 2ms/step\n",
      "53/53 [==============================] - 0s 2ms/step\n",
      "53/53 [==============================] - 0s 1ms/step\n",
      "53/53 [==============================] - 0s 1ms/step\n",
      "53/53 [==============================] - 0s 1ms/step\n",
      "| \u001b[0m28       \u001b[0m | \u001b[0m0.9761   \u001b[0m | \u001b[0m5.657    \u001b[0m | \u001b[0m935.6    \u001b[0m | \u001b[0m27.78    \u001b[0m | \u001b[0m0.01     \u001b[0m | \u001b[0m49.16    \u001b[0m | \u001b[0m0.0      \u001b[0m |\n"
     ]
    },
    {
     "name": "stderr",
     "output_type": "stream",
     "text": [
      "WARNING:absl:`lr` is deprecated, please use `learning_rate` instead, or use the legacy optimizer, e.g.,tf.keras.optimizers.legacy.Adamax.\n"
     ]
    },
    {
     "name": "stdout",
     "output_type": "stream",
     "text": [
      "53/53 [==============================] - 0s 1ms/step\n",
      "53/53 [==============================] - 0s 2ms/step\n",
      "53/53 [==============================] - 0s 1ms/step\n",
      "53/53 [==============================] - 0s 1ms/step\n",
      "53/53 [==============================] - 0s 1ms/step\n",
      "| \u001b[0m29       \u001b[0m | \u001b[0m0.9814   \u001b[0m | \u001b[0m0.0      \u001b[0m | \u001b[0m852.1    \u001b[0m | \u001b[0m23.07    \u001b[0m | \u001b[0m0.01     \u001b[0m | \u001b[0m75.66    \u001b[0m | \u001b[0m0.0      \u001b[0m |\n",
      "=================================================================================================\n"
     ]
    }
   ],
   "source": [
    "from keras.wrappers.scikit_learn import KerasClassifier\n",
    "from sklearn.metrics import fbeta_score\n",
    "\n",
    "f1_scorer = make_scorer(fbeta_score, beta=1)\n",
    "\n",
    "def hypertuning_func3(neurons, activation, optimizer, learning_rate,  batch_size, epochs ):\n",
    "    \n",
    "   \n",
    "    act_list = ['relu', 'sigmoid', 'softplus', 'softsign', 'tanh', 'selu', 'elu', 'exponential', LeakyReLU,'relu']\n",
    "    \n",
    "    neurons = round(neurons)\n",
    "    activation = act_list[round(activation)]\n",
    "    batch_size = round(batch_size)\n",
    "    epochs = round(epochs)\n",
    "    \n",
    "    opt_list = ['SGD', 'Adam', 'RMSprop', 'Adadelta', 'Adagrad', 'Adamax', 'Nadam', 'Ftrl','SGD']\n",
    "    \n",
    "    opt_dict= {'Adam':Adam(lr=learning_rate), 'SGD':SGD(lr=learning_rate),'RMSprop':RMSprop(lr=learning_rate), 'Adadelta':Adadelta(lr=learning_rate),'Adagrad':Adagrad(lr=learning_rate), 'Adamax':Adamax(lr=learning_rate),'Nadam':Nadam(lr=learning_rate), 'Ftrl':Ftrl(lr=learning_rate)}\n",
    "    \n",
    "    \n",
    "    def temp_model3():\n",
    "        opt = Adam(lr = learning_rate)\n",
    "        model3 = Sequential()\n",
    "        model3.add(Dense(neurons, input_dim=41, activation=activation))\n",
    "        model3.add(Dense(neurons, activation=activation))\n",
    "        model3.add(Dense(1, activation='sigmoid')) \n",
    "        model3.compile(loss='binary_crossentropy', optimizer=opt, metrics=[get_f1])\n",
    "        return model3\n",
    "    \n",
    "    model3 = KerasClassifier(build_fn=temp_model3, epochs=epochs, batch_size=batch_size,\n",
    "                         verbose=0) #creates a Stratifiedstrat_fold object converting data into folds for cross-validation\n",
    "    \n",
    "    strat_fold = Stratifiedstrat_fold(n_splits=5, shuffle=True, random_state=123)\n",
    "    \n",
    "    score = cross_val_score(model3, X_train_bal2, y_train_bal2, scoring=f1_scorer, cv=strat_fold).mean()\n",
    "    \n",
    "    return score\n",
    "\n",
    "# Set paramaters\n",
    "params_range3 ={\n",
    "    'neurons': (10, 100),\n",
    "    'activation':(0, 9),\n",
    "    'optimizer':(0,7),\n",
    "    'learning_rate':(0.01, 1),\n",
    "    'batch_size':(200, 1000),\n",
    "    'epochs':(20, 100)\n",
    "}\n",
    "# Run Bayesian Optimization\n",
    "baye_opt3 = BayesianOptimization(hypertuning_func3, params_range3, random_state=111)\n",
    "baye_opt3.maximize(init_points=25, n_iter=4)"
   ]
  },
  {
   "cell_type": "code",
   "execution_count": 45,
   "id": "4490d243",
   "metadata": {},
   "outputs": [
    {
     "data": {
      "text/plain": [
       "{'activation': 'relu',\n",
       " 'batch_size': 885.214632751467,\n",
       " 'epochs': 36.11298734601822,\n",
       " 'learning_rate': 0.01,\n",
       " 'neurons': 52.89744733549892,\n",
       " 'optimizer': 0.0}"
      ]
     },
     "execution_count": 45,
     "metadata": {},
     "output_type": "execute_result"
    }
   ],
   "source": [
    "tuned_params3 = baye_opt3.max['params']\n",
    "act_list = ['relu', 'sigmoid', 'softplus', 'softsign', 'tanh', 'selu', 'elu', 'exponential', LeakyReLU,'relu']\n",
    "\n",
    "tuned_params3['activation'] = act_list[round(tuned_params3['activation'])]\n",
    "tuned_params3"
   ]
  },
  {
   "cell_type": "markdown",
   "id": "f9b2539d",
   "metadata": {},
   "source": [
    "<br id=\"8.4\">\n",
    "<a href=\"#index\" style=\"color:#033a91; font-size: 16px; text-decoration: none; font-weight:bold;\">8.4 Building the model</a>\n"
   ]
  },
  {
   "cell_type": "code",
   "execution_count": 47,
   "id": "8a0fb87f",
   "metadata": {},
   "outputs": [
    {
     "name": "stdout",
     "output_type": "stream",
     "text": [
      "Epoch 1/36\n",
      "10/10 [==============================] - 1s 52ms/step - loss: 0.3616 - get_f1: 0.8774 - val_loss: 0.2125 - val_get_f1: 0.3452\n",
      "Epoch 2/36\n",
      "10/10 [==============================] - 0s 10ms/step - loss: 0.1885 - get_f1: 0.9359 - val_loss: 0.2260 - val_get_f1: 0.3817\n",
      "Epoch 3/36\n",
      "10/10 [==============================] - 0s 9ms/step - loss: 0.1568 - get_f1: 0.9499 - val_loss: 0.2072 - val_get_f1: 0.3501\n",
      "Epoch 4/36\n",
      "10/10 [==============================] - 0s 12ms/step - loss: 0.1325 - get_f1: 0.9577 - val_loss: 0.1821 - val_get_f1: 0.3290\n",
      "Epoch 5/36\n",
      "10/10 [==============================] - 0s 12ms/step - loss: 0.1100 - get_f1: 0.9656 - val_loss: 0.1784 - val_get_f1: 0.2431\n",
      "Epoch 6/36\n",
      "10/10 [==============================] - 0s 15ms/step - loss: 0.0971 - get_f1: 0.9724 - val_loss: 0.1803 - val_get_f1: 0.2542\n",
      "Epoch 7/36\n",
      "10/10 [==============================] - 0s 13ms/step - loss: 0.0857 - get_f1: 0.9760 - val_loss: 0.1972 - val_get_f1: 0.2564\n",
      "Epoch 8/36\n",
      "10/10 [==============================] - 0s 12ms/step - loss: 0.0755 - get_f1: 0.9777 - val_loss: 0.2132 - val_get_f1: 0.2502\n",
      "Epoch 9/36\n",
      "10/10 [==============================] - 0s 13ms/step - loss: 0.0677 - get_f1: 0.9805 - val_loss: 0.2047 - val_get_f1: 0.2708\n",
      "Epoch 10/36\n",
      "10/10 [==============================] - 0s 20ms/step - loss: 0.0596 - get_f1: 0.9830 - val_loss: 0.2041 - val_get_f1: 0.2697\n",
      "Epoch 11/36\n",
      "10/10 [==============================] - 0s 20ms/step - loss: 0.0596 - get_f1: 0.9840 - val_loss: 0.2592 - val_get_f1: 0.2533\n",
      "Epoch 12/36\n",
      "10/10 [==============================] - 0s 11ms/step - loss: 0.0552 - get_f1: 0.9834 - val_loss: 0.2178 - val_get_f1: 0.2742\n",
      "Epoch 13/36\n",
      "10/10 [==============================] - 0s 22ms/step - loss: 0.0508 - get_f1: 0.9846 - val_loss: 0.2130 - val_get_f1: 0.2533\n",
      "Epoch 14/36\n",
      "10/10 [==============================] - 0s 13ms/step - loss: 0.0431 - get_f1: 0.9878 - val_loss: 0.2191 - val_get_f1: 0.2424\n",
      "Epoch 15/36\n",
      "10/10 [==============================] - 0s 9ms/step - loss: 0.0361 - get_f1: 0.9894 - val_loss: 0.2307 - val_get_f1: 0.2440\n",
      "Epoch 16/36\n",
      "10/10 [==============================] - 0s 9ms/step - loss: 0.0321 - get_f1: 0.9908 - val_loss: 0.2448 - val_get_f1: 0.2376\n",
      "Epoch 17/36\n",
      "10/10 [==============================] - 0s 13ms/step - loss: 0.0297 - get_f1: 0.9922 - val_loss: 0.2565 - val_get_f1: 0.2283\n",
      "Epoch 18/36\n",
      "10/10 [==============================] - 0s 10ms/step - loss: 0.0271 - get_f1: 0.9925 - val_loss: 0.2689 - val_get_f1: 0.2622\n",
      "Epoch 19/36\n",
      "10/10 [==============================] - 0s 10ms/step - loss: 0.0240 - get_f1: 0.9935 - val_loss: 0.2643 - val_get_f1: 0.2409\n",
      "Epoch 20/36\n",
      "10/10 [==============================] - 0s 10ms/step - loss: 0.0217 - get_f1: 0.9946 - val_loss: 0.2868 - val_get_f1: 0.2451\n",
      "Epoch 21/36\n",
      "10/10 [==============================] - 0s 12ms/step - loss: 0.0240 - get_f1: 0.9931 - val_loss: 0.2764 - val_get_f1: 0.2503\n",
      "Epoch 22/36\n",
      "10/10 [==============================] - 0s 11ms/step - loss: 0.0229 - get_f1: 0.9943 - val_loss: 0.2743 - val_get_f1: 0.2160\n",
      "Epoch 23/36\n",
      "10/10 [==============================] - 0s 14ms/step - loss: 0.0182 - get_f1: 0.9947 - val_loss: 0.2883 - val_get_f1: 0.2409\n",
      "Epoch 24/36\n",
      "10/10 [==============================] - 0s 12ms/step - loss: 0.0136 - get_f1: 0.9960 - val_loss: 0.2893 - val_get_f1: 0.2143\n",
      "Epoch 25/36\n",
      "10/10 [==============================] - 0s 9ms/step - loss: 0.0120 - get_f1: 0.9970 - val_loss: 0.3032 - val_get_f1: 0.2358\n",
      "Epoch 26/36\n",
      "10/10 [==============================] - 0s 9ms/step - loss: 0.0096 - get_f1: 0.9975 - val_loss: 0.3121 - val_get_f1: 0.2373\n",
      "Epoch 27/36\n",
      "10/10 [==============================] - 0s 9ms/step - loss: 0.0084 - get_f1: 0.9980 - val_loss: 0.3270 - val_get_f1: 0.2317\n",
      "Epoch 28/36\n",
      "10/10 [==============================] - 0s 11ms/step - loss: 0.0091 - get_f1: 0.9978 - val_loss: 0.3441 - val_get_f1: 0.2449\n",
      "Epoch 29/36\n",
      "10/10 [==============================] - 0s 9ms/step - loss: 0.0119 - get_f1: 0.9963 - val_loss: 0.3185 - val_get_f1: 0.2252\n",
      "Epoch 30/36\n",
      "10/10 [==============================] - 0s 10ms/step - loss: 0.0161 - get_f1: 0.9970 - val_loss: 0.3377 - val_get_f1: 0.2132\n",
      "Epoch 31/36\n",
      "10/10 [==============================] - 0s 9ms/step - loss: 0.0160 - get_f1: 0.9951 - val_loss: 0.3496 - val_get_f1: 0.2122\n",
      "Epoch 32/36\n",
      "10/10 [==============================] - 0s 9ms/step - loss: 0.0235 - get_f1: 0.9943 - val_loss: 0.3934 - val_get_f1: 0.2070\n",
      "Epoch 33/36\n",
      "10/10 [==============================] - 0s 9ms/step - loss: 0.0134 - get_f1: 0.9961 - val_loss: 0.3437 - val_get_f1: 0.2293\n",
      "Epoch 34/36\n",
      "10/10 [==============================] - 0s 9ms/step - loss: 0.0100 - get_f1: 0.9970 - val_loss: 0.3839 - val_get_f1: 0.2139\n",
      "Epoch 35/36\n",
      "10/10 [==============================] - 0s 9ms/step - loss: 0.0083 - get_f1: 0.9984 - val_loss: 0.3016 - val_get_f1: 0.2242\n",
      "Epoch 36/36\n",
      "10/10 [==============================] - 0s 10ms/step - loss: 0.0115 - get_f1: 0.9979 - val_loss: 0.3183 - val_get_f1: 0.2246\n"
     ]
    }
   ],
   "source": [
    "nn = Sequential()\n",
    "nn.add(Dense(round(tuned_params3['neurons']), input_dim=41, activation=tuned_params3['activation']))\n",
    "nn.add(Dense(round(tuned_params3['neurons']), activation=tuned_params3['activation']))\n",
    "nn.add(Dense(1, activation='sigmoid'))\n",
    "nn.compile(loss='binary_crossentropy', optimizer=Adam(lr = tuned_params3['learning_rate']), metrics=[get_f1])\n",
    "\n",
    "history = nn.fit(X_train_bal2, y_train_bal2,batch_size=round(tuned_params3['batch_size']), \n",
    "                        epochs=round(tuned_params3['epochs']), validation_data=(X_test_pca,y_test))"
   ]
  },
  {
   "cell_type": "code",
   "execution_count": 48,
   "id": "3759ab59",
   "metadata": {},
   "outputs": [
    {
     "name": "stdout",
     "output_type": "stream",
     "text": [
      "59/59 [==============================] - 0s 2ms/step\n"
     ]
    },
    {
     "data": {
      "image/png": "[encoded data removed]",
      "text/plain": [
       "<Figure size 504x504 with 2 Axes>"
      ]
     },
     "metadata": {
      "needs_background": "light"
     },
     "output_type": "display_data"
    },
    {
     "name": "stdout",
     "output_type": "stream",
     "text": [
      "\n",
      "\n",
      "Classification Report:\n",
      "              precision    recall  f1-score   support\n",
      "\n",
      "           0       0.98      0.98      0.98      1824\n",
      "           1       0.35      0.30      0.32        57\n",
      "\n",
      "    accuracy                           0.96      1881\n",
      "   macro avg       0.67      0.64      0.65      1881\n",
      "weighted avg       0.96      0.96      0.96      1881\n",
      "\n"
     ]
    }
   ],
   "source": [
    "def predict(model,x):\n",
    "    pred  = model.predict(x)\n",
    "    pred[pred >= 0.5] = 1\n",
    "    pred[pred < 0.5] = 0\n",
    "    return pred\n",
    "\n",
    "def predict_graph(y_true,y_pred,title):\n",
    "    cm = confusion_matrix(y_true,y_pred)\n",
    "    plt.figure(figsize=(7,7))\n",
    "    sns.heatmap(cm,annot=True,fmt='g',cmap=\"YlGnBu\",\n",
    "                xticklabels=['No Bankruptcy','Bankruptcy'],yticklabels=['No Bankruptcy','Bankruptcy'])\n",
    "    plt.title(title)\n",
    "    plt.show()\n",
    "    \n",
    "    print(\"\\n\")\n",
    "    print(\"Classification Report:\")\n",
    "    print(classification_report(y_true,y_pred))\n",
    "\n",
    "\n",
    "y_test_pred = predict(nn,X_test_pca)\n",
    "predict_graph(y_test,y_test_pred,'Test Data Predictions')"
   ]
  },
  {
   "cell_type": "code",
   "execution_count": null,
   "id": "12a4f3f3",
   "metadata": {},
   "outputs": [],
   "source": []
  }
 ],
 "metadata": {
  "kernelspec": {
   "display_name": "Python 3 (ipykernel)",
   "language": "python",
   "name": "python3"
  },
  "language_info": {
   "codemirror_mode": {
    "name": "ipython",
    "version": 3
   },
   "file_extension": ".py",
   "mimetype": "text/x-python",
   "name": "python",
   "nbconvert_exporter": "python",
   "pygments_lexer": "ipython3",
   "version": "3.9.12"
  }
 },
 "nbformat": 4,
 "nbformat_minor": 5
}
